{
 "cells": [
  {
   "cell_type": "code",
   "execution_count": 3,
   "id": "ce8da870",
   "metadata": {},
   "outputs": [],
   "source": [
    "import sys\n",
    "sys.path.append('CLIP-dissect') "
   ]
  },
  {
   "cell_type": "code",
   "execution_count": 4,
   "id": "ad46d898",
   "metadata": {},
   "outputs": [],
   "source": [
    "import os\n",
    "import torch\n",
    "import torchvision\n",
    "import torch.nn as nn\n",
    "import numpy as np\n",
    "import pandas as pd\n",
    "import cv2\n",
    "import glob\n",
    "import random\n",
    "import copy\n",
    "from sklearn.metrics import precision_score, f1_score, recall_score, confusion_matrix\n",
    "\n",
    "import torch.nn.functional as F\n",
    "from torchvision.datasets import ImageFolder\n",
    "from torch.utils.data import DataLoader\n",
    "from torchvision import transforms\n",
    "from torch.utils.data import random_split\n",
    "from torchvision.utils import make_grid\n",
    "\n",
    "import matplotlib.pyplot as plt\n",
    "import matplotlib\n",
    "import similarity\n",
    "import utils\n",
    "import data_utils\n",
    "import clip\n",
    "from sentence_transformers import SentenceTransformer\n",
    "\n",
    "%matplotlib inline"
   ]
  },
  {
   "cell_type": "code",
   "execution_count": 5,
   "id": "7cbbfcb4",
   "metadata": {},
   "outputs": [
    {
     "name": "stdout",
     "output_type": "stream",
     "text": [
      "['disgust', 'happy', 'angry', 'neutral', 'sad', 'surprise', 'fear']\n"
     ]
    }
   ],
   "source": [
    "dataset_path = \"FER2013\"\n",
    "class_names = os.listdir(dataset_path+\"/train\")\n",
    "print(class_names)"
   ]
  },
  {
   "cell_type": "code",
   "execution_count": 6,
   "id": "1caef36b",
   "metadata": {},
   "outputs": [],
   "source": [
    "emotions = []\n",
    "for file_name in glob.glob(dataset_path+'/train/*/*'):\n",
    "    emotion = file_name.split('/')[-2]\n",
    "    if emotion not in emotions:\n",
    "        img = cv2.imread(file_name)\n",
    "    emotions.append(emotion)\n",
    "    \n",
    "emotions = []\n",
    "for file_name in glob.glob(dataset_path+'/test/*/*'):\n",
    "    emotion = file_name.split('/')[-2]\n",
    "    if emotion not in emotions:\n",
    "        img = cv2.imread(file_name)\n",
    "    emotions.append(emotion)"
   ]
  },
  {
   "cell_type": "code",
   "execution_count": 7,
   "id": "0a907a17",
   "metadata": {},
   "outputs": [],
   "source": [
    "transform = transforms.Compose([transforms.ToTensor(),transforms.Resize((48,48))])\n",
    "\n",
    "train_dataset = ImageFolder(dataset_path+'/train',transform)\n",
    "train_loader = DataLoader(dataset=train_dataset,batch_size=100*6)\n",
    "#creating val data loaders\n",
    "val_dataset = ImageFolder(dataset_path+'/test',transform)\n",
    "val_loader = DataLoader(dataset=val_dataset,batch_size=100)"
   ]
  },
  {
   "cell_type": "code",
   "execution_count": 8,
   "id": "9648bcea",
   "metadata": {},
   "outputs": [],
   "source": [
    "from clip_dissect_pipeline import dissect_pipeline"
   ]
  },
  {
   "cell_type": "code",
   "execution_count": 9,
   "id": "f14ef6ab",
   "metadata": {},
   "outputs": [],
   "source": [
    "emotion_mapping = {0: 'Angry', 1: 'Disgust', 2: 'Fear', 3: 'Happy', 4: 'Sad', 5: 'Surprise', 6: 'Neutral'}\n",
    "device = torch.device(\"cuda:0\" if torch.cuda.is_available() else \"cpu\")\n"
   ]
  },
  {
   "cell_type": "code",
   "execution_count": 10,
   "id": "d490d9b9",
   "metadata": {},
   "outputs": [
    {
     "data": {
      "text/plain": [
       "Vgg(\n",
       "  (conv1a): Conv2d(1, 64, kernel_size=(3, 3), stride=(1, 1), padding=(1, 1))\n",
       "  (conv1b): Conv2d(64, 64, kernel_size=(3, 3), stride=(1, 1), padding=(1, 1))\n",
       "  (conv2a): Conv2d(64, 128, kernel_size=(3, 3), stride=(1, 1), padding=(1, 1))\n",
       "  (conv2b): Conv2d(128, 128, kernel_size=(3, 3), stride=(1, 1), padding=(1, 1))\n",
       "  (conv3a): Conv2d(128, 256, kernel_size=(3, 3), stride=(1, 1), padding=(1, 1))\n",
       "  (conv3b): Conv2d(256, 256, kernel_size=(3, 3), stride=(1, 1), padding=(1, 1))\n",
       "  (conv4a): Conv2d(256, 512, kernel_size=(3, 3), stride=(1, 1), padding=(1, 1))\n",
       "  (conv4b): Conv2d(512, 512, kernel_size=(3, 3), stride=(1, 1), padding=(1, 1))\n",
       "  (pool): MaxPool2d(kernel_size=2, stride=2, padding=0, dilation=1, ceil_mode=False)\n",
       "  (bn1a): BatchNorm2d(64, eps=1e-05, momentum=0.1, affine=True, track_running_stats=True)\n",
       "  (bn1b): BatchNorm2d(64, eps=1e-05, momentum=0.1, affine=True, track_running_stats=True)\n",
       "  (bn2a): BatchNorm2d(128, eps=1e-05, momentum=0.1, affine=True, track_running_stats=True)\n",
       "  (bn2b): BatchNorm2d(128, eps=1e-05, momentum=0.1, affine=True, track_running_stats=True)\n",
       "  (bn3a): BatchNorm2d(256, eps=1e-05, momentum=0.1, affine=True, track_running_stats=True)\n",
       "  (bn3b): BatchNorm2d(256, eps=1e-05, momentum=0.1, affine=True, track_running_stats=True)\n",
       "  (bn4a): BatchNorm2d(512, eps=1e-05, momentum=0.1, affine=True, track_running_stats=True)\n",
       "  (bn4b): BatchNorm2d(512, eps=1e-05, momentum=0.1, affine=True, track_running_stats=True)\n",
       "  (lin1): Linear(in_features=2048, out_features=4096, bias=True)\n",
       "  (lin2): Linear(in_features=4096, out_features=4096, bias=True)\n",
       "  (lin3): Linear(in_features=4096, out_features=7, bias=True)\n",
       "  (drop): Dropout(p=0.2, inplace=False)\n",
       ")"
      ]
     },
     "execution_count": 10,
     "metadata": {},
     "output_type": "execute_result"
    }
   ],
   "source": [
    "import models\n",
    "model_path = 'VGGNet'\n",
    "checkpoint = torch.load(model_path)\n",
    "target_model = models.Vgg().to(device)\n",
    "target_model.load_state_dict(checkpoint[\"params\"])\n",
    "net = target_model\n",
    "net"
   ]
  },
  {
   "cell_type": "code",
   "execution_count": 11,
   "id": "f9a25f3f",
   "metadata": {},
   "outputs": [],
   "source": [
    "def correct_count(output, target, topk=(1,)):\n",
    "    \"\"\"Computes the top k corrrect count for the specified values of k\"\"\"\n",
    "    maxk = max(topk)\n",
    "\n",
    "    _, pred = output.topk(maxk, 1, True, True)\n",
    "    pred = pred.t()\n",
    "    correct = pred.eq(target.view(1, -1).expand_as(pred))\n",
    "\n",
    "    res = []\n",
    "    for k in topk:\n",
    "        correct_k = correct[:k].contiguous().view(-1).float().sum(0, keepdim=True)\n",
    "        res.append(correct_k)\n",
    "    return res"
   ]
  },
  {
   "cell_type": "code",
   "execution_count": 12,
   "id": "05e7ebb4",
   "metadata": {},
   "outputs": [],
   "source": [
    "def evaluate(net, dataloader, criterion):\n",
    "    net = net.eval()\n",
    "    loss_tr, n_samples = 0.0, 0.0\n",
    "\n",
    "    y_pred = []\n",
    "    y_gt = []\n",
    "\n",
    "    correct_count1 = 0\n",
    "    correct_count2 = 0\n",
    "\n",
    "    for data in dataloader:\n",
    "        inputs, labels = data\n",
    "        inputs, labels = inputs.to(device), labels.to(device)\n",
    "\n",
    "        # fuse crops and batchsize\n",
    "        #bs, ncrops, c, h, w = inputs.shape\n",
    "        #bs, c, h, w = inputs.shape\n",
    "        #inputs = inputs.view(-1, c, h, w)\n",
    "        ncrops = 10\n",
    "        bs = 5\n",
    "        # forward\n",
    "        outputs = net(inputs)\n",
    "\n",
    "        # combine results across the crops\n",
    "        #outputs = outputs.view(bs, ncrops, -1)\n",
    "        #outputs = torch.sum(outputs, dim=1) / ncrops\n",
    "\n",
    "        loss = criterion(outputs, labels)\n",
    "\n",
    "        # calculate performance metrics\n",
    "        loss_tr += loss.item()\n",
    "\n",
    "        # accuracy\n",
    "        counts = correct_count(outputs, labels, topk=(1, 2))\n",
    "        correct_count1 += counts[0].item()\n",
    "        correct_count2 += counts[1].item()\n",
    "\n",
    "        _, preds = torch.max(outputs.data, 1)\n",
    "        preds = preds.to(\"cpu\")\n",
    "        labels = labels.to(\"cpu\")\n",
    "        n_samples += labels.size(0)\n",
    "\n",
    "        y_pred.extend(pred.item() for pred in preds)\n",
    "        y_gt.extend(y.item() for y in labels)\n",
    "\n",
    "    acc1 = 100 * correct_count1 / n_samples\n",
    "    acc2 = 100 * correct_count2 / n_samples\n",
    "    loss = loss_tr / n_samples\n",
    "    print(\"--------------------------------------------------------\")\n",
    "    print(\"Top 1 Accuracy: %2.6f %%\" % acc1)\n",
    "    print(\"Top 2 Accuracy: %2.6f %%\" % acc2)\n",
    "    print(\"Loss: %2.6f\" % loss)\n",
    "    print(\"Precision: %2.6f\" % precision_score(y_gt, y_pred, average='micro'))\n",
    "    print(\"Recall: %2.6f\" % recall_score(y_gt, y_pred, average='micro'))\n",
    "    print(\"F1 Score: %2.6f\" % f1_score(y_gt, y_pred, average='micro'))\n",
    "    print(\"Confusion Matrix:\\n\", confusion_matrix(y_gt, y_pred), '\\n')\n",
    "    return acc1, acc2"
   ]
  },
  {
   "cell_type": "code",
   "execution_count": 11,
   "id": "426eddce",
   "metadata": {},
   "outputs": [
    {
     "name": "stdout",
     "output_type": "stream",
     "text": [
      "Test\n"
     ]
    },
    {
     "name": "stderr",
     "output_type": "stream",
     "text": [
      "/opt/conda/lib/python3.9/site-packages/torchvision/transforms/functional.py:1603: UserWarning: The default value of the antialias parameter of all the resizing transforms (Resize(), RandomResizedCrop(), etc.) will change from None to True in v0.17, in order to be consistent across the PIL and Tensor backends. To suppress this warning, directly pass antialias=True (recommended, future default), antialias=None (current default, which means False for Tensors and True for PIL), or antialias=False (only works on Tensors - PIL will still use antialiasing). This also applies if you are using the inference transforms from the models weights: update the call to weights.transforms(antialias=True).\n",
      "  warnings.warn(\n"
     ]
    },
    {
     "name": "stdout",
     "output_type": "stream",
     "text": [
      "--------------------------------------------------------\n",
      "Top 1 Accuracy: 69.420451 %\n",
      "Top 2 Accuracy: 85.775982 %\n",
      "Loss: 0.281748\n",
      "Precision: 0.694205\n",
      "Recall: 0.694205\n",
      "F1 Score: 0.694205\n",
      "Confusion Matrix:\n",
      " [[ 625    3   72   52  119   12   75]\n",
      " [  28   61    2    5   11    0    4]\n",
      " [ 121    0  520   36  175   66  106]\n",
      " [  26    0   18 1558   47   36   89]\n",
      " [ 115    0  103   59  738   17  215]\n",
      " [  21    0   81   48   22  635   24]\n",
      " [  53    0   38  100  188    8  846]] \n",
      "\n"
     ]
    },
    {
     "data": {
      "text/plain": [
       "(69.42045137921427, 85.77598216773474)"
      ]
     },
     "execution_count": 11,
     "metadata": {},
     "output_type": "execute_result"
    }
   ],
   "source": [
    "criterion = nn.CrossEntropyLoss()\n",
    "# Get data with no augmentation\n",
    "#trainloader, valloader, testloader = get_dataloaders(augment=False)\n",
    "dataset_path = \"FER2013\"\n",
    "mu, st = 0, 1\n",
    "transform = transforms.Compose([\n",
    "    transforms.ToTensor(),\n",
    "    transforms.Resize((40, 40)),\n",
    "    transforms.functional.rgb_to_grayscale,\n",
    "    #transforms.TenCrop(40),\n",
    "    #transforms.Lambda(lambda tensors: torch.stack([transforms.Normalize(mean=(mu,), std=(st,))(t) for t in tensors])),\n",
    "    #transforms.Lambda(lambda inputs: inputs.view(-1, inputs.shape[1], inputs.shape[2], inputs.shape[3]))\n",
    "])\n",
    "label_corrections = {4: 6, 5:4, 6:5}\n",
    "target_transform = transforms.Lambda(lambda label: label_corrections[label] if label in label_corrections else label)\n",
    "val_dataset = ImageFolder(dataset_path+'/test',transform, target_transform)\n",
    "#plt.imshow(val_dataset[0][0][4].permute(1,2,0))\n",
    "val_loader = DataLoader(dataset=val_dataset,batch_size=5, shuffle=True)\n",
    "print(\"Test\")\n",
    "evaluate(net, val_loader, criterion)"
   ]
  },
  {
   "cell_type": "code",
   "execution_count": 12,
   "id": "642d69af",
   "metadata": {},
   "outputs": [
    {
     "name": "stdout",
     "output_type": "stream",
     "text": [
      "modified...\n"
     ]
    },
    {
     "name": "stderr",
     "output_type": "stream",
     "text": [
      "/opt/conda/lib/python3.9/site-packages/torchvision/transforms/functional.py:1603: UserWarning: The default value of the antialias parameter of all the resizing transforms (Resize(), RandomResizedCrop(), etc.) will change from None to True in v0.17, in order to be consistent across the PIL and Tensor backends. To suppress this warning, directly pass antialias=True (recommended, future default), antialias=None (current default, which means False for Tensors and True for PIL), or antialias=False (only works on Tensors - PIL will still use antialiasing). This also applies if you are using the inference transforms from the models weights: update the call to weights.transforms(antialias=True).\n",
      "  warnings.warn(\n"
     ]
    },
    {
     "name": "stdout",
     "output_type": "stream",
     "text": [
      "--------------------------------------------------------\n",
      "Top 1 Accuracy: 69.517972 %\n",
      "Top 2 Accuracy: 85.748119 %\n",
      "Loss: 0.399206\n",
      "Precision: 0.695180\n",
      "Recall: 0.695180\n",
      "F1 Score: 0.695180\n",
      "Confusion Matrix:\n",
      " [[ 627    3   73   50  124   13   68]\n",
      " [  26   67    2    4    9    0    3]\n",
      " [ 123    0  523   34  175   69  100]\n",
      " [  28    1   19 1557   53   40   76]\n",
      " [ 117    0  105   57  754   19  195]\n",
      " [  22    1   82   43   19  643   21]\n",
      " [  56    1   42  102  202   11  819]] \n",
      "\n"
     ]
    },
    {
     "data": {
      "text/plain": [
       "(69.51797157982725, 85.7481192532739)"
      ]
     },
     "execution_count": 12,
     "metadata": {},
     "output_type": "execute_result"
    }
   ],
   "source": [
    "net1 = copy.deepcopy(net)\n",
    "weights = net.lin2.weight.data  # Get the weights of the lin1 layer\n",
    "\n",
    "# Compute the sum of absolute values of weights for each neuron\n",
    "weight_sums = torch.sum(torch.abs(weights), dim=1)\n",
    "\n",
    "# Define a threshold to categorize neurons (this is arbitrary and for demonstration)\n",
    "threshold = weight_sums.mean()  # Use the mean as a simple threshold\n",
    "\n",
    "# Neurons with weight sum above threshold are \"interpretable\"\n",
    "interpretable_indices = torch.where(weight_sums > threshold)[0]\n",
    "uninterpretable_indices = torch.where(weight_sums <= threshold)[0]\n",
    "\n",
    "# Modify weights: Increase for interpretable, decrease for uninterpretable\n",
    "factor = 2  # Example factor to modify weights\n",
    "for idx in interpretable_indices:\n",
    "    net1.lin2.weight.data[idx] *= factor\n",
    "\n",
    "for idx in uninterpretable_indices:\n",
    "    net1.lin2.weight.data[idx] /= factor\n",
    "print(\"modified...\")\n",
    "evaluate(net1, val_loader, criterion)"
   ]
  },
  {
   "cell_type": "code",
   "execution_count": 13,
   "id": "6e2378ab",
   "metadata": {},
   "outputs": [
    {
     "name": "stderr",
     "output_type": "stream",
     "text": [
      "100%|██████████| 4096/4096 [00:00<00:00, 8856.52it/s]\n"
     ]
    },
    {
     "name": "stdout",
     "output_type": "stream",
     "text": [
      "torch.Size([4096, 25])\n"
     ]
    }
   ],
   "source": [
    "d_probe = 'FER2013'\n",
    "concept_set = 'CLIP-dissect/data/concept_set.txt' # concept set needs to be path to .txt file\n",
    "similarity_fn = similarity.soft_wpmi\n",
    "target_name = 'deep_emotion'\n",
    "layers = ['conv1a', 'conv1b', 'conv2a', 'conv2b', 'conv3a', 'conv3b', 'conv4a', 'conv4b', 'lin1', 'lin2']\n",
    "target_layer = 'conv4b'\n",
    "\n",
    "predicted_emotions, neuron_image_indices, sims = dissect_pipeline(d_probe,concept_set, similarity_fn, target_name, 'lin2')\n"
   ]
  },
  {
   "cell_type": "code",
   "execution_count": 25,
   "id": "fbd4476f",
   "metadata": {},
   "outputs": [
    {
     "name": "stdout",
     "output_type": "stream",
     "text": [
      "--------------------------------------------------------\n",
      "Top 1 Accuracy: 69.420451 %\n",
      "Top 2 Accuracy: 85.775982 %\n",
      "Loss: 0.281655\n",
      "Precision: 0.694205\n",
      "Recall: 0.694205\n",
      "F1 Score: 0.694205\n",
      "Confusion Matrix:\n",
      " [[ 625    3   72   52  119   12   75]\n",
      " [  28   61    2    5   11    0    4]\n",
      " [ 121    0  520   36  175   66  106]\n",
      " [  26    0   18 1558   47   36   89]\n",
      " [ 115    0  103   59  738   17  215]\n",
      " [  21    0   81   48   22  635   24]\n",
      " [  53    0   38  100  188    8  846]] \n",
      "\n"
     ]
    },
    {
     "name": "stderr",
     "output_type": "stream",
     "text": [
      "/opt/conda/lib/python3.9/site-packages/torchvision/transforms/functional.py:1603: UserWarning: The default value of the antialias parameter of all the resizing transforms (Resize(), RandomResizedCrop(), etc.) will change from None to True in v0.17, in order to be consistent across the PIL and Tensor backends. To suppress this warning, directly pass antialias=True (recommended, future default), antialias=None (current default, which means False for Tensors and True for PIL), or antialias=False (only works on Tensors - PIL will still use antialiasing). This also applies if you are using the inference transforms from the models weights: update the call to weights.transforms(antialias=True).\n",
      "  warnings.warn(\n"
     ]
    },
    {
     "name": "stdout",
     "output_type": "stream",
     "text": [
      "--------------------------------------------------------\n",
      "Top 1 Accuracy: 69.573697 %\n",
      "Top 2 Accuracy: 85.748119 %\n",
      "Loss: 0.380680\n",
      "Precision: 0.695737\n",
      "Recall: 0.695737\n",
      "F1 Score: 0.695737\n",
      "Confusion Matrix:\n",
      " [[ 621    3   75   54  113   14   78]\n",
      " [  26   67    2    4    9    0    3]\n",
      " [ 120    0  520   37  166   73  108]\n",
      " [  22    1   20 1560   42   40   89]\n",
      " [ 115    0  108   60  719   20  225]\n",
      " [  17    1   75   44   19  650   25]\n",
      " [  54    0   39  104  167   12  857]] \n",
      "\n"
     ]
    },
    {
     "name": "stderr",
     "output_type": "stream",
     "text": [
      "/opt/conda/lib/python3.9/site-packages/torchvision/transforms/functional.py:1603: UserWarning: The default value of the antialias parameter of all the resizing transforms (Resize(), RandomResizedCrop(), etc.) will change from None to True in v0.17, in order to be consistent across the PIL and Tensor backends. To suppress this warning, directly pass antialias=True (recommended, future default), antialias=None (current default, which means False for Tensors and True for PIL), or antialias=False (only works on Tensors - PIL will still use antialiasing). This also applies if you are using the inference transforms from the models weights: update the call to weights.transforms(antialias=True).\n",
      "  warnings.warn(\n"
     ]
    },
    {
     "name": "stdout",
     "output_type": "stream",
     "text": [
      "--------------------------------------------------------\n",
      "Top 1 Accuracy: 69.545834 %\n",
      "Top 2 Accuracy: 85.692393 %\n",
      "Loss: 0.483105\n",
      "Precision: 0.695458\n",
      "Recall: 0.695458\n",
      "F1 Score: 0.695458\n",
      "Confusion Matrix:\n",
      " [[ 622    3   75   54  103   18   83]\n",
      " [  26   67    2    4    9    0    3]\n",
      " [ 119    0  521   38  161   77  108]\n",
      " [  20    1   20 1559   42   43   89]\n",
      " [ 116    0  111   63  706   22  229]\n",
      " [  16    1   73   42   18  657   24]\n",
      " [  51    1   39  104  162   16  860]] \n",
      "\n"
     ]
    },
    {
     "name": "stderr",
     "output_type": "stream",
     "text": [
      "/opt/conda/lib/python3.9/site-packages/torchvision/transforms/functional.py:1603: UserWarning: The default value of the antialias parameter of all the resizing transforms (Resize(), RandomResizedCrop(), etc.) will change from None to True in v0.17, in order to be consistent across the PIL and Tensor backends. To suppress this warning, directly pass antialias=True (recommended, future default), antialias=None (current default, which means False for Tensors and True for PIL), or antialias=False (only works on Tensors - PIL will still use antialiasing). This also applies if you are using the inference transforms from the models weights: update the call to weights.transforms(antialias=True).\n",
      "  warnings.warn(\n"
     ]
    },
    {
     "name": "stdout",
     "output_type": "stream",
     "text": [
      "--------------------------------------------------------\n",
      "Top 1 Accuracy: 69.490109 %\n",
      "Top 2 Accuracy: 85.636668 %\n",
      "Loss: 0.587275\n",
      "Precision: 0.694901\n",
      "Recall: 0.694901\n",
      "F1 Score: 0.694901\n",
      "Confusion Matrix:\n",
      " [[ 621    3   77   54   98   20   85]\n",
      " [  25   69    2    5    7    0    3]\n",
      " [ 120    0  519   38  159   81  107]\n",
      " [  20    1   20 1559   41   43   90]\n",
      " [ 113    1  111   66  702   23  231]\n",
      " [  15    1   75   42   18  658   22]\n",
      " [  51    1   40  105  159   17  860]] \n",
      "\n"
     ]
    },
    {
     "name": "stderr",
     "output_type": "stream",
     "text": [
      "/opt/conda/lib/python3.9/site-packages/torchvision/transforms/functional.py:1603: UserWarning: The default value of the antialias parameter of all the resizing transforms (Resize(), RandomResizedCrop(), etc.) will change from None to True in v0.17, in order to be consistent across the PIL and Tensor backends. To suppress this warning, directly pass antialias=True (recommended, future default), antialias=None (current default, which means False for Tensors and True for PIL), or antialias=False (only works on Tensors - PIL will still use antialiasing). This also applies if you are using the inference transforms from the models weights: update the call to weights.transforms(antialias=True).\n",
      "  warnings.warn(\n"
     ]
    },
    {
     "name": "stdout",
     "output_type": "stream",
     "text": [
      "--------------------------------------------------------\n",
      "Top 1 Accuracy: 69.420451 %\n",
      "Top 2 Accuracy: 85.594873 %\n",
      "Loss: 0.691347\n",
      "Precision: 0.694205\n",
      "Recall: 0.694205\n",
      "F1 Score: 0.694205\n",
      "Confusion Matrix:\n",
      " [[ 615    7   78   56   97   21   84]\n",
      " [  24   70    2    5    7    0    3]\n",
      " [ 119    0  518   38  159   83  107]\n",
      " [  20    1   20 1559   40   45   89]\n",
      " [ 112    1  113   66  699   23  233]\n",
      " [  14    1   74   42   17  661   22]\n",
      " [  50    1   39  108  157   17  861]] \n",
      "\n"
     ]
    },
    {
     "name": "stderr",
     "output_type": "stream",
     "text": [
      "/opt/conda/lib/python3.9/site-packages/torchvision/transforms/functional.py:1603: UserWarning: The default value of the antialias parameter of all the resizing transforms (Resize(), RandomResizedCrop(), etc.) will change from None to True in v0.17, in order to be consistent across the PIL and Tensor backends. To suppress this warning, directly pass antialias=True (recommended, future default), antialias=None (current default, which means False for Tensors and True for PIL), or antialias=False (only works on Tensors - PIL will still use antialiasing). This also applies if you are using the inference transforms from the models weights: update the call to weights.transforms(antialias=True).\n",
      "  warnings.warn(\n"
     ]
    },
    {
     "name": "stdout",
     "output_type": "stream",
     "text": [
      "--------------------------------------------------------\n",
      "Top 1 Accuracy: 69.364726 %\n",
      "Top 2 Accuracy: 85.622736 %\n",
      "Loss: 0.796160\n",
      "Precision: 0.693647\n",
      "Recall: 0.693647\n",
      "F1 Score: 0.693647\n",
      "Confusion Matrix:\n",
      " [[ 614    7   80   56   96   21   84]\n",
      " [  24   72    2    4    7    0    2]\n",
      " [ 118    0  518   39  157   84  108]\n",
      " [  19    1   20 1561   40   47   86]\n",
      " [ 115    1  115   68  690   23  235]\n",
      " [  15    1   72   42   16  664   21]\n",
      " [  49    1   39  108  157   19  860]] \n",
      "\n"
     ]
    },
    {
     "name": "stderr",
     "output_type": "stream",
     "text": [
      "/opt/conda/lib/python3.9/site-packages/torchvision/transforms/functional.py:1603: UserWarning: The default value of the antialias parameter of all the resizing transforms (Resize(), RandomResizedCrop(), etc.) will change from None to True in v0.17, in order to be consistent across the PIL and Tensor backends. To suppress this warning, directly pass antialias=True (recommended, future default), antialias=None (current default, which means False for Tensors and True for PIL), or antialias=False (only works on Tensors - PIL will still use antialiasing). This also applies if you are using the inference transforms from the models weights: update the call to weights.transforms(antialias=True).\n",
      "  warnings.warn(\n"
     ]
    },
    {
     "name": "stdout",
     "output_type": "stream",
     "text": [
      "--------------------------------------------------------\n",
      "Top 1 Accuracy: 69.420451 %\n",
      "Top 2 Accuracy: 85.775982 %\n",
      "Loss: 0.281690\n",
      "Precision: 0.694205\n",
      "Recall: 0.694205\n",
      "F1 Score: 0.694205\n",
      "Confusion Matrix:\n",
      " [[ 625    3   72   52  119   12   75]\n",
      " [  28   61    2    5   11    0    4]\n",
      " [ 121    0  520   36  175   66  106]\n",
      " [  26    0   18 1558   47   36   89]\n",
      " [ 115    0  103   59  738   17  215]\n",
      " [  21    0   81   48   22  635   24]\n",
      " [  53    0   38  100  188    8  846]] \n",
      "\n"
     ]
    },
    {
     "name": "stderr",
     "output_type": "stream",
     "text": [
      "/opt/conda/lib/python3.9/site-packages/torchvision/transforms/functional.py:1603: UserWarning: The default value of the antialias parameter of all the resizing transforms (Resize(), RandomResizedCrop(), etc.) will change from None to True in v0.17, in order to be consistent across the PIL and Tensor backends. To suppress this warning, directly pass antialias=True (recommended, future default), antialias=None (current default, which means False for Tensors and True for PIL), or antialias=False (only works on Tensors - PIL will still use antialiasing). This also applies if you are using the inference transforms from the models weights: update the call to weights.transforms(antialias=True).\n",
      "  warnings.warn(\n"
     ]
    },
    {
     "name": "stdout",
     "output_type": "stream",
     "text": [
      "--------------------------------------------------------\n",
      "Top 1 Accuracy: 69.545834 %\n",
      "Top 2 Accuracy: 85.775982 %\n",
      "Loss: 0.380278\n",
      "Precision: 0.695458\n",
      "Recall: 0.695458\n",
      "F1 Score: 0.695458\n",
      "Confusion Matrix:\n",
      " [[ 621    3   75   54  114   14   77]\n",
      " [  26   67    2    4    9    0    3]\n",
      " [ 120    0  520   37  166   73  108]\n",
      " [  22    1   20 1560   42   40   89]\n",
      " [ 115    0  108   60  719   20  225]\n",
      " [  17    1   77   44   19  648   25]\n",
      " [  54    0   39  104  167   12  857]] \n",
      "\n"
     ]
    },
    {
     "name": "stderr",
     "output_type": "stream",
     "text": [
      "/opt/conda/lib/python3.9/site-packages/torchvision/transforms/functional.py:1603: UserWarning: The default value of the antialias parameter of all the resizing transforms (Resize(), RandomResizedCrop(), etc.) will change from None to True in v0.17, in order to be consistent across the PIL and Tensor backends. To suppress this warning, directly pass antialias=True (recommended, future default), antialias=None (current default, which means False for Tensors and True for PIL), or antialias=False (only works on Tensors - PIL will still use antialiasing). This also applies if you are using the inference transforms from the models weights: update the call to weights.transforms(antialias=True).\n",
      "  warnings.warn(\n"
     ]
    },
    {
     "name": "stdout",
     "output_type": "stream",
     "text": [
      "--------------------------------------------------------\n",
      "Top 1 Accuracy: 69.517972 %\n",
      "Top 2 Accuracy: 85.720256 %\n",
      "Loss: 0.481788\n",
      "Precision: 0.695180\n",
      "Recall: 0.695180\n",
      "F1 Score: 0.695180\n",
      "Confusion Matrix:\n",
      " [[ 621    3   75   54  105   18   82]\n",
      " [  26   67    2    4    9    0    3]\n",
      " [ 119    0  520   38  161   78  108]\n",
      " [  20    1   20 1559   42   43   89]\n",
      " [ 115    0  111   63  707   22  229]\n",
      " [  16    1   75   42   18  656   23]\n",
      " [  51    1   39  104  162   16  860]] \n",
      "\n"
     ]
    },
    {
     "name": "stderr",
     "output_type": "stream",
     "text": [
      "/opt/conda/lib/python3.9/site-packages/torchvision/transforms/functional.py:1603: UserWarning: The default value of the antialias parameter of all the resizing transforms (Resize(), RandomResizedCrop(), etc.) will change from None to True in v0.17, in order to be consistent across the PIL and Tensor backends. To suppress this warning, directly pass antialias=True (recommended, future default), antialias=None (current default, which means False for Tensors and True for PIL), or antialias=False (only works on Tensors - PIL will still use antialiasing). This also applies if you are using the inference transforms from the models weights: update the call to weights.transforms(antialias=True).\n",
      "  warnings.warn(\n"
     ]
    },
    {
     "name": "stdout",
     "output_type": "stream",
     "text": [
      "--------------------------------------------------------\n",
      "Top 1 Accuracy: 69.517972 %\n",
      "Top 2 Accuracy: 85.594873 %\n",
      "Loss: 0.585159\n",
      "Precision: 0.695180\n",
      "Recall: 0.695180\n",
      "F1 Score: 0.695180\n",
      "Confusion Matrix:\n",
      " [[ 620    3   78   55   98   20   84]\n",
      " [  25   69    2    4    8    0    3]\n",
      " [ 120    0  520   38  159   80  107]\n",
      " [  20    1   20 1559   41   44   89]\n",
      " [ 113    1  111   66  703   23  230]\n",
      " [  15    1   75   42   18  658   22]\n",
      " [  50    1   40  105  159   17  861]] \n",
      "\n"
     ]
    },
    {
     "name": "stderr",
     "output_type": "stream",
     "text": [
      "/opt/conda/lib/python3.9/site-packages/torchvision/transforms/functional.py:1603: UserWarning: The default value of the antialias parameter of all the resizing transforms (Resize(), RandomResizedCrop(), etc.) will change from None to True in v0.17, in order to be consistent across the PIL and Tensor backends. To suppress this warning, directly pass antialias=True (recommended, future default), antialias=None (current default, which means False for Tensors and True for PIL), or antialias=False (only works on Tensors - PIL will still use antialiasing). This also applies if you are using the inference transforms from the models weights: update the call to weights.transforms(antialias=True).\n",
      "  warnings.warn(\n"
     ]
    },
    {
     "name": "stdout",
     "output_type": "stream",
     "text": [
      "--------------------------------------------------------\n",
      "Top 1 Accuracy: 69.476177 %\n",
      "Top 2 Accuracy: 85.594873 %\n",
      "Loss: 0.688958\n",
      "Precision: 0.694762\n",
      "Recall: 0.694762\n",
      "F1 Score: 0.694762\n",
      "Confusion Matrix:\n",
      " [[ 615    7   78   56   97   21   84]\n",
      " [  24   71    2    4    7    0    3]\n",
      " [ 118    0  519   38  159   83  107]\n",
      " [  20    1   20 1559   40   45   89]\n",
      " [ 112    1  111   67  700   23  233]\n",
      " [  14    1   74   42   17  661   22]\n",
      " [  49    1   40  107  157   17  862]] \n",
      "\n"
     ]
    },
    {
     "name": "stderr",
     "output_type": "stream",
     "text": [
      "/opt/conda/lib/python3.9/site-packages/torchvision/transforms/functional.py:1603: UserWarning: The default value of the antialias parameter of all the resizing transforms (Resize(), RandomResizedCrop(), etc.) will change from None to True in v0.17, in order to be consistent across the PIL and Tensor backends. To suppress this warning, directly pass antialias=True (recommended, future default), antialias=None (current default, which means False for Tensors and True for PIL), or antialias=False (only works on Tensors - PIL will still use antialiasing). This also applies if you are using the inference transforms from the models weights: update the call to weights.transforms(antialias=True).\n",
      "  warnings.warn(\n"
     ]
    },
    {
     "name": "stdout",
     "output_type": "stream",
     "text": [
      "--------------------------------------------------------\n",
      "Top 1 Accuracy: 69.406520 %\n",
      "Top 2 Accuracy: 85.608805 %\n",
      "Loss: 0.793691\n",
      "Precision: 0.694065\n",
      "Recall: 0.694065\n",
      "F1 Score: 0.694065\n",
      "Confusion Matrix:\n",
      " [[ 613    7   80   56   96   21   85]\n",
      " [  24   72    2    4    7    0    2]\n",
      " [ 117    0  520   38  158   83  108]\n",
      " [  19    1   20 1561   40   47   86]\n",
      " [ 113    1  114   68  693   23  235]\n",
      " [  14    1   74   42   17  662   21]\n",
      " [  48    1   39  108  157   19  861]] \n",
      "\n"
     ]
    },
    {
     "name": "stderr",
     "output_type": "stream",
     "text": [
      "/opt/conda/lib/python3.9/site-packages/torchvision/transforms/functional.py:1603: UserWarning: The default value of the antialias parameter of all the resizing transforms (Resize(), RandomResizedCrop(), etc.) will change from None to True in v0.17, in order to be consistent across the PIL and Tensor backends. To suppress this warning, directly pass antialias=True (recommended, future default), antialias=None (current default, which means False for Tensors and True for PIL), or antialias=False (only works on Tensors - PIL will still use antialiasing). This also applies if you are using the inference transforms from the models weights: update the call to weights.transforms(antialias=True).\n",
      "  warnings.warn(\n"
     ]
    },
    {
     "name": "stdout",
     "output_type": "stream",
     "text": [
      "--------------------------------------------------------\n",
      "Top 1 Accuracy: 69.420451 %\n",
      "Top 2 Accuracy: 85.775982 %\n",
      "Loss: 0.281747\n",
      "Precision: 0.694205\n",
      "Recall: 0.694205\n",
      "F1 Score: 0.694205\n",
      "Confusion Matrix:\n",
      " [[ 625    3   72   52  119   12   75]\n",
      " [  28   61    2    5   11    0    4]\n",
      " [ 121    0  520   36  175   66  106]\n",
      " [  26    0   18 1558   47   36   89]\n",
      " [ 115    0  103   59  738   17  215]\n",
      " [  21    0   81   48   22  635   24]\n",
      " [  53    0   38  100  188    8  846]] \n",
      "\n"
     ]
    },
    {
     "name": "stderr",
     "output_type": "stream",
     "text": [
      "/opt/conda/lib/python3.9/site-packages/torchvision/transforms/functional.py:1603: UserWarning: The default value of the antialias parameter of all the resizing transforms (Resize(), RandomResizedCrop(), etc.) will change from None to True in v0.17, in order to be consistent across the PIL and Tensor backends. To suppress this warning, directly pass antialias=True (recommended, future default), antialias=None (current default, which means False for Tensors and True for PIL), or antialias=False (only works on Tensors - PIL will still use antialiasing). This also applies if you are using the inference transforms from the models weights: update the call to weights.transforms(antialias=True).\n",
      "  warnings.warn(\n"
     ]
    },
    {
     "name": "stdout",
     "output_type": "stream",
     "text": [
      "--------------------------------------------------------\n",
      "Top 1 Accuracy: 69.629423 %\n",
      "Top 2 Accuracy: 85.762051 %\n",
      "Loss: 0.378219\n",
      "Precision: 0.696294\n",
      "Recall: 0.696294\n",
      "F1 Score: 0.696294\n",
      "Confusion Matrix:\n",
      " [[ 619    3   75   54  114   15   78]\n",
      " [  26   67    2    4    9    0    3]\n",
      " [ 119    0  521   37  166   73  108]\n",
      " [  21    1   20 1559   43   40   90]\n",
      " [ 114    0  109   60  719   20  225]\n",
      " [  16    1   75   44   19  651   25]\n",
      " [  50    0   39  103  167   12  862]] \n",
      "\n"
     ]
    },
    {
     "name": "stderr",
     "output_type": "stream",
     "text": [
      "/opt/conda/lib/python3.9/site-packages/torchvision/transforms/functional.py:1603: UserWarning: The default value of the antialias parameter of all the resizing transforms (Resize(), RandomResizedCrop(), etc.) will change from None to True in v0.17, in order to be consistent across the PIL and Tensor backends. To suppress this warning, directly pass antialias=True (recommended, future default), antialias=None (current default, which means False for Tensors and True for PIL), or antialias=False (only works on Tensors - PIL will still use antialiasing). This also applies if you are using the inference transforms from the models weights: update the call to weights.transforms(antialias=True).\n",
      "  warnings.warn(\n"
     ]
    },
    {
     "name": "stdout",
     "output_type": "stream",
     "text": [
      "--------------------------------------------------------\n",
      "Top 1 Accuracy: 69.490109 %\n",
      "Top 2 Accuracy: 85.692393 %\n",
      "Loss: 0.478388\n",
      "Precision: 0.694901\n",
      "Recall: 0.694901\n",
      "F1 Score: 0.694901\n",
      "Confusion Matrix:\n",
      " [[ 615    3   77   54  107   18   84]\n",
      " [  26   67    2    4    9    0    3]\n",
      " [ 119    0  520   38  161   78  108]\n",
      " [  20    1   20 1559   41   43   90]\n",
      " [ 113    0  113   62  708   22  229]\n",
      " [  15    1   76   42   18  656   23]\n",
      " [  49    1   39  104  161   16  863]] \n",
      "\n"
     ]
    },
    {
     "name": "stderr",
     "output_type": "stream",
     "text": [
      "/opt/conda/lib/python3.9/site-packages/torchvision/transforms/functional.py:1603: UserWarning: The default value of the antialias parameter of all the resizing transforms (Resize(), RandomResizedCrop(), etc.) will change from None to True in v0.17, in order to be consistent across the PIL and Tensor backends. To suppress this warning, directly pass antialias=True (recommended, future default), antialias=None (current default, which means False for Tensors and True for PIL), or antialias=False (only works on Tensors - PIL will still use antialiasing). This also applies if you are using the inference transforms from the models weights: update the call to weights.transforms(antialias=True).\n",
      "  warnings.warn(\n"
     ]
    },
    {
     "name": "stdout",
     "output_type": "stream",
     "text": [
      "--------------------------------------------------------\n",
      "Top 1 Accuracy: 69.504040 %\n",
      "Top 2 Accuracy: 85.664531 %\n",
      "Loss: 0.580430\n",
      "Precision: 0.695040\n",
      "Recall: 0.695040\n",
      "F1 Score: 0.695040\n",
      "Confusion Matrix:\n",
      " [[ 615    5   78   54  100   20   86]\n",
      " [  24   70    2    4    8    0    3]\n",
      " [ 118    0  521   38  159   81  107]\n",
      " [  20    1   20 1558   41   45   89]\n",
      " [ 111    1  113   66  702   23  231]\n",
      " [  14    1   75   42   17  660   22]\n",
      " [  48    1   40  104  159   18  863]] \n",
      "\n"
     ]
    },
    {
     "name": "stderr",
     "output_type": "stream",
     "text": [
      "/opt/conda/lib/python3.9/site-packages/torchvision/transforms/functional.py:1603: UserWarning: The default value of the antialias parameter of all the resizing transforms (Resize(), RandomResizedCrop(), etc.) will change from None to True in v0.17, in order to be consistent across the PIL and Tensor backends. To suppress this warning, directly pass antialias=True (recommended, future default), antialias=None (current default, which means False for Tensors and True for PIL), or antialias=False (only works on Tensors - PIL will still use antialiasing). This also applies if you are using the inference transforms from the models weights: update the call to weights.transforms(antialias=True).\n",
      "  warnings.warn(\n"
     ]
    },
    {
     "name": "stdout",
     "output_type": "stream",
     "text": [
      "--------------------------------------------------------\n",
      "Top 1 Accuracy: 69.406520 %\n",
      "Top 2 Accuracy: 85.608805 %\n",
      "Loss: 0.683376\n",
      "Precision: 0.694065\n",
      "Recall: 0.694065\n",
      "F1 Score: 0.694065\n",
      "Confusion Matrix:\n",
      " [[ 611    7   81   54   98   21   86]\n",
      " [  24   71    2    4    7    0    3]\n",
      " [ 117    0  520   38  158   83  108]\n",
      " [  19    1   20 1560   40   46   88]\n",
      " [ 111    1  115   67  697   23  233]\n",
      " [  14    1   74   42   17  661   22]\n",
      " [  48    1   40  107  157   18  862]] \n",
      "\n"
     ]
    },
    {
     "name": "stderr",
     "output_type": "stream",
     "text": [
      "/opt/conda/lib/python3.9/site-packages/torchvision/transforms/functional.py:1603: UserWarning: The default value of the antialias parameter of all the resizing transforms (Resize(), RandomResizedCrop(), etc.) will change from None to True in v0.17, in order to be consistent across the PIL and Tensor backends. To suppress this warning, directly pass antialias=True (recommended, future default), antialias=None (current default, which means False for Tensors and True for PIL), or antialias=False (only works on Tensors - PIL will still use antialiasing). This also applies if you are using the inference transforms from the models weights: update the call to weights.transforms(antialias=True).\n",
      "  warnings.warn(\n"
     ]
    },
    {
     "name": "stdout",
     "output_type": "stream",
     "text": [
      "--------------------------------------------------------\n",
      "Top 1 Accuracy: 69.420451 %\n",
      "Top 2 Accuracy: 85.594873 %\n",
      "Loss: 0.786580\n",
      "Precision: 0.694205\n",
      "Recall: 0.694205\n",
      "F1 Score: 0.694205\n",
      "Confusion Matrix:\n",
      " [[ 612    7   81   55   97   21   85]\n",
      " [  24   72    2    4    7    0    2]\n",
      " [ 116    0  520   39  157   83  109]\n",
      " [  19    1   20 1560   40   47   87]\n",
      " [ 110    2  116   68  692   23  236]\n",
      " [  13    1   73   41   17  665   21]\n",
      " [  48    1   40  107  156   19  862]] \n",
      "\n"
     ]
    },
    {
     "name": "stderr",
     "output_type": "stream",
     "text": [
      "/opt/conda/lib/python3.9/site-packages/torchvision/transforms/functional.py:1603: UserWarning: The default value of the antialias parameter of all the resizing transforms (Resize(), RandomResizedCrop(), etc.) will change from None to True in v0.17, in order to be consistent across the PIL and Tensor backends. To suppress this warning, directly pass antialias=True (recommended, future default), antialias=None (current default, which means False for Tensors and True for PIL), or antialias=False (only works on Tensors - PIL will still use antialiasing). This also applies if you are using the inference transforms from the models weights: update the call to weights.transforms(antialias=True).\n",
      "  warnings.warn(\n"
     ]
    },
    {
     "name": "stdout",
     "output_type": "stream",
     "text": [
      "--------------------------------------------------------\n",
      "Top 1 Accuracy: 69.420451 %\n",
      "Top 2 Accuracy: 85.775982 %\n",
      "Loss: 0.281632\n",
      "Precision: 0.694205\n",
      "Recall: 0.694205\n",
      "F1 Score: 0.694205\n",
      "Confusion Matrix:\n",
      " [[ 625    3   72   52  119   12   75]\n",
      " [  28   61    2    5   11    0    4]\n",
      " [ 121    0  520   36  175   66  106]\n",
      " [  26    0   18 1558   47   36   89]\n",
      " [ 115    0  103   59  738   17  215]\n",
      " [  21    0   81   48   22  635   24]\n",
      " [  53    0   38  100  188    8  846]] \n",
      "\n"
     ]
    },
    {
     "name": "stderr",
     "output_type": "stream",
     "text": [
      "/opt/conda/lib/python3.9/site-packages/torchvision/transforms/functional.py:1603: UserWarning: The default value of the antialias parameter of all the resizing transforms (Resize(), RandomResizedCrop(), etc.) will change from None to True in v0.17, in order to be consistent across the PIL and Tensor backends. To suppress this warning, directly pass antialias=True (recommended, future default), antialias=None (current default, which means False for Tensors and True for PIL), or antialias=False (only works on Tensors - PIL will still use antialiasing). This also applies if you are using the inference transforms from the models weights: update the call to weights.transforms(antialias=True).\n",
      "  warnings.warn(\n"
     ]
    },
    {
     "name": "stdout",
     "output_type": "stream",
     "text": [
      "--------------------------------------------------------\n",
      "Top 1 Accuracy: 69.573697 %\n",
      "Top 2 Accuracy: 85.762051 %\n",
      "Loss: 0.375931\n",
      "Precision: 0.695737\n",
      "Recall: 0.695737\n",
      "F1 Score: 0.695737\n",
      "Confusion Matrix:\n",
      " [[ 617    3   75   54  113   15   81]\n",
      " [  26   67    2    4    9    0    3]\n",
      " [ 118    0  522   37  166   73  108]\n",
      " [  21    1   20 1559   43   40   90]\n",
      " [ 114    0  109   60  717   20  227]\n",
      " [  16    1   77   44   19  649   25]\n",
      " [  49    0   39  103  167   12  863]] \n",
      "\n"
     ]
    },
    {
     "name": "stderr",
     "output_type": "stream",
     "text": [
      "/opt/conda/lib/python3.9/site-packages/torchvision/transforms/functional.py:1603: UserWarning: The default value of the antialias parameter of all the resizing transforms (Resize(), RandomResizedCrop(), etc.) will change from None to True in v0.17, in order to be consistent across the PIL and Tensor backends. To suppress this warning, directly pass antialias=True (recommended, future default), antialias=None (current default, which means False for Tensors and True for PIL), or antialias=False (only works on Tensors - PIL will still use antialiasing). This also applies if you are using the inference transforms from the models weights: update the call to weights.transforms(antialias=True).\n",
      "  warnings.warn(\n"
     ]
    },
    {
     "name": "stdout",
     "output_type": "stream",
     "text": [
      "--------------------------------------------------------\n",
      "Top 1 Accuracy: 69.462246 %\n",
      "Top 2 Accuracy: 85.678462 %\n",
      "Loss: 0.474216\n",
      "Precision: 0.694622\n",
      "Recall: 0.694622\n",
      "F1 Score: 0.694622\n",
      "Confusion Matrix:\n",
      " [[ 613    3   77   54  107   19   85]\n",
      " [  26   67    2    4    9    0    3]\n",
      " [ 118    0  522   37  161   78  108]\n",
      " [  20    1   20 1557   41   44   91]\n",
      " [ 112    0  112   62  706   22  233]\n",
      " [  15    1   76   42   18  656   23]\n",
      " [  49    1   39  102  161   16  865]] \n",
      "\n"
     ]
    },
    {
     "name": "stderr",
     "output_type": "stream",
     "text": [
      "/opt/conda/lib/python3.9/site-packages/torchvision/transforms/functional.py:1603: UserWarning: The default value of the antialias parameter of all the resizing transforms (Resize(), RandomResizedCrop(), etc.) will change from None to True in v0.17, in order to be consistent across the PIL and Tensor backends. To suppress this warning, directly pass antialias=True (recommended, future default), antialias=None (current default, which means False for Tensors and True for PIL), or antialias=False (only works on Tensors - PIL will still use antialiasing). This also applies if you are using the inference transforms from the models weights: update the call to weights.transforms(antialias=True).\n",
      "  warnings.warn(\n"
     ]
    },
    {
     "name": "stdout",
     "output_type": "stream",
     "text": [
      "--------------------------------------------------------\n",
      "Top 1 Accuracy: 69.545834 %\n",
      "Top 2 Accuracy: 85.636668 %\n",
      "Loss: 0.574848\n",
      "Precision: 0.695458\n",
      "Recall: 0.695458\n",
      "F1 Score: 0.695458\n",
      "Confusion Matrix:\n",
      " [[ 612    6   79   54  101   20   86]\n",
      " [  24   70    2    4    8    0    3]\n",
      " [ 114    0  523   37  159   82  109]\n",
      " [  20    1   20 1558   41   45   89]\n",
      " [ 110    1  114   64  700   23  235]\n",
      " [  14    1   75   41   18  660   22]\n",
      " [  47    1   40  100  158   18  869]] \n",
      "\n"
     ]
    },
    {
     "name": "stderr",
     "output_type": "stream",
     "text": [
      "/opt/conda/lib/python3.9/site-packages/torchvision/transforms/functional.py:1603: UserWarning: The default value of the antialias parameter of all the resizing transforms (Resize(), RandomResizedCrop(), etc.) will change from None to True in v0.17, in order to be consistent across the PIL and Tensor backends. To suppress this warning, directly pass antialias=True (recommended, future default), antialias=None (current default, which means False for Tensors and True for PIL), or antialias=False (only works on Tensors - PIL will still use antialiasing). This also applies if you are using the inference transforms from the models weights: update the call to weights.transforms(antialias=True).\n",
      "  warnings.warn(\n"
     ]
    },
    {
     "name": "stdout",
     "output_type": "stream",
     "text": [
      "--------------------------------------------------------\n",
      "Top 1 Accuracy: 69.531903 %\n",
      "Top 2 Accuracy: 85.594873 %\n",
      "Loss: 0.675616\n",
      "Precision: 0.695319\n",
      "Recall: 0.695319\n",
      "F1 Score: 0.695319\n",
      "Confusion Matrix:\n",
      " [[ 608    7   84   54   98   21   86]\n",
      " [  24   71    2    3    8    0    3]\n",
      " [ 115    0  522   37  158   83  109]\n",
      " [  19    1   20 1559   40   46   89]\n",
      " [ 111    1  114   65  696   23  237]\n",
      " [  13    1   74   41   17  663   22]\n",
      " [  47    1   40  101  154   18  872]] \n",
      "\n"
     ]
    },
    {
     "name": "stderr",
     "output_type": "stream",
     "text": [
      "/opt/conda/lib/python3.9/site-packages/torchvision/transforms/functional.py:1603: UserWarning: The default value of the antialias parameter of all the resizing transforms (Resize(), RandomResizedCrop(), etc.) will change from None to True in v0.17, in order to be consistent across the PIL and Tensor backends. To suppress this warning, directly pass antialias=True (recommended, future default), antialias=None (current default, which means False for Tensors and True for PIL), or antialias=False (only works on Tensors - PIL will still use antialiasing). This also applies if you are using the inference transforms from the models weights: update the call to weights.transforms(antialias=True).\n",
      "  warnings.warn(\n"
     ]
    },
    {
     "name": "stdout",
     "output_type": "stream",
     "text": [
      "--------------------------------------------------------\n",
      "Top 1 Accuracy: 69.517972 %\n",
      "Top 2 Accuracy: 85.650599 %\n",
      "Loss: 0.777432\n",
      "Precision: 0.695180\n",
      "Recall: 0.695180\n",
      "F1 Score: 0.695180\n",
      "Confusion Matrix:\n",
      " [[ 608    7   84   54   98   21   86]\n",
      " [  24   72    2    4    7    0    2]\n",
      " [ 115    0  522   37  157   83  110]\n",
      " [  19    1   20 1559   40   48   87]\n",
      " [ 110    2  115   67  693   23  237]\n",
      " [  13    1   73   41   17  665   21]\n",
      " [  47    1   41  102  152   19  871]] \n",
      "\n"
     ]
    },
    {
     "name": "stderr",
     "output_type": "stream",
     "text": [
      "/opt/conda/lib/python3.9/site-packages/torchvision/transforms/functional.py:1603: UserWarning: The default value of the antialias parameter of all the resizing transforms (Resize(), RandomResizedCrop(), etc.) will change from None to True in v0.17, in order to be consistent across the PIL and Tensor backends. To suppress this warning, directly pass antialias=True (recommended, future default), antialias=None (current default, which means False for Tensors and True for PIL), or antialias=False (only works on Tensors - PIL will still use antialiasing). This also applies if you are using the inference transforms from the models weights: update the call to weights.transforms(antialias=True).\n",
      "  warnings.warn(\n"
     ]
    },
    {
     "name": "stdout",
     "output_type": "stream",
     "text": [
      "--------------------------------------------------------\n",
      "Top 1 Accuracy: 69.420451 %\n",
      "Top 2 Accuracy: 85.775982 %\n",
      "Loss: 0.281796\n",
      "Precision: 0.694205\n",
      "Recall: 0.694205\n",
      "F1 Score: 0.694205\n",
      "Confusion Matrix:\n",
      " [[ 625    3   72   52  119   12   75]\n",
      " [  28   61    2    5   11    0    4]\n",
      " [ 121    0  520   36  175   66  106]\n",
      " [  26    0   18 1558   47   36   89]\n",
      " [ 115    0  103   59  738   17  215]\n",
      " [  21    0   81   48   22  635   24]\n",
      " [  53    0   38  100  188    8  846]] \n",
      "\n"
     ]
    },
    {
     "name": "stderr",
     "output_type": "stream",
     "text": [
      "/opt/conda/lib/python3.9/site-packages/torchvision/transforms/functional.py:1603: UserWarning: The default value of the antialias parameter of all the resizing transforms (Resize(), RandomResizedCrop(), etc.) will change from None to True in v0.17, in order to be consistent across the PIL and Tensor backends. To suppress this warning, directly pass antialias=True (recommended, future default), antialias=None (current default, which means False for Tensors and True for PIL), or antialias=False (only works on Tensors - PIL will still use antialiasing). This also applies if you are using the inference transforms from the models weights: update the call to weights.transforms(antialias=True).\n",
      "  warnings.warn(\n"
     ]
    },
    {
     "name": "stdout",
     "output_type": "stream",
     "text": [
      "--------------------------------------------------------\n",
      "Top 1 Accuracy: 69.629423 %\n",
      "Top 2 Accuracy: 85.762051 %\n",
      "Loss: 0.371000\n",
      "Precision: 0.696294\n",
      "Recall: 0.696294\n",
      "F1 Score: 0.696294\n",
      "Confusion Matrix:\n",
      " [[ 615    3   77   54  112   16   81]\n",
      " [  26   67    2    4    9    0    3]\n",
      " [ 118    0  524   37  165   72  108]\n",
      " [  21    1   20 1557   43   41   91]\n",
      " [ 113    0  112   60  716   20  226]\n",
      " [  16    1   78   42   19  651   24]\n",
      " [  48    0   39  100  165   13  868]] \n",
      "\n"
     ]
    },
    {
     "name": "stderr",
     "output_type": "stream",
     "text": [
      "/opt/conda/lib/python3.9/site-packages/torchvision/transforms/functional.py:1603: UserWarning: The default value of the antialias parameter of all the resizing transforms (Resize(), RandomResizedCrop(), etc.) will change from None to True in v0.17, in order to be consistent across the PIL and Tensor backends. To suppress this warning, directly pass antialias=True (recommended, future default), antialias=None (current default, which means False for Tensors and True for PIL), or antialias=False (only works on Tensors - PIL will still use antialiasing). This also applies if you are using the inference transforms from the models weights: update the call to weights.transforms(antialias=True).\n",
      "  warnings.warn(\n"
     ]
    },
    {
     "name": "stdout",
     "output_type": "stream",
     "text": [
      "--------------------------------------------------------\n",
      "Top 1 Accuracy: 69.531903 %\n",
      "Top 2 Accuracy: 85.706325 %\n",
      "Loss: 0.465629\n",
      "Precision: 0.695319\n",
      "Recall: 0.695319\n",
      "F1 Score: 0.695319\n",
      "Confusion Matrix:\n",
      " [[ 609    3   81   53  106   20   86]\n",
      " [  25   68    2    4    9    0    3]\n",
      " [ 114    0  525   36  161   78  110]\n",
      " [  20    1   20 1557   41   44   91]\n",
      " [ 110    0  115   62  703   23  234]\n",
      " [  14    1   76   42   18  657   23]\n",
      " [  44    1   39   99  161   17  872]] \n",
      "\n"
     ]
    },
    {
     "name": "stderr",
     "output_type": "stream",
     "text": [
      "/opt/conda/lib/python3.9/site-packages/torchvision/transforms/functional.py:1603: UserWarning: The default value of the antialias parameter of all the resizing transforms (Resize(), RandomResizedCrop(), etc.) will change from None to True in v0.17, in order to be consistent across the PIL and Tensor backends. To suppress this warning, directly pass antialias=True (recommended, future default), antialias=None (current default, which means False for Tensors and True for PIL), or antialias=False (only works on Tensors - PIL will still use antialiasing). This also applies if you are using the inference transforms from the models weights: update the call to weights.transforms(antialias=True).\n",
      "  warnings.warn(\n"
     ]
    },
    {
     "name": "stdout",
     "output_type": "stream",
     "text": [
      "--------------------------------------------------------\n",
      "Top 1 Accuracy: 69.587629 %\n",
      "Top 2 Accuracy: 85.636668 %\n",
      "Loss: 0.562860\n",
      "Precision: 0.695876\n",
      "Recall: 0.695876\n",
      "F1 Score: 0.695876\n",
      "Confusion Matrix:\n",
      " [[ 605    6   85   54  102   20   86]\n",
      " [  24   70    2    4    8    0    3]\n",
      " [ 112    0  527   36  158   81  110]\n",
      " [  19    1   20 1557   41   46   90]\n",
      " [ 109    1  116   63  698   23  237]\n",
      " [  13    1   75   41   16  662   23]\n",
      " [  43    1   41  100  154   18  876]] \n",
      "\n"
     ]
    },
    {
     "name": "stderr",
     "output_type": "stream",
     "text": [
      "/opt/conda/lib/python3.9/site-packages/torchvision/transforms/functional.py:1603: UserWarning: The default value of the antialias parameter of all the resizing transforms (Resize(), RandomResizedCrop(), etc.) will change from None to True in v0.17, in order to be consistent across the PIL and Tensor backends. To suppress this warning, directly pass antialias=True (recommended, future default), antialias=None (current default, which means False for Tensors and True for PIL), or antialias=False (only works on Tensors - PIL will still use antialiasing). This also applies if you are using the inference transforms from the models weights: update the call to weights.transforms(antialias=True).\n",
      "  warnings.warn(\n"
     ]
    },
    {
     "name": "stdout",
     "output_type": "stream",
     "text": [
      "--------------------------------------------------------\n",
      "Top 1 Accuracy: 69.573697 %\n",
      "Top 2 Accuracy: 85.706325 %\n",
      "Loss: 0.661064\n",
      "Precision: 0.695737\n",
      "Recall: 0.695737\n",
      "F1 Score: 0.695737\n",
      "Confusion Matrix:\n",
      " [[ 601    7   86   54  102   21   87]\n",
      " [  23   72    2    3    8    0    3]\n",
      " [ 112    0  526   36  157   83  110]\n",
      " [  18    1   20 1558   39   48   90]\n",
      " [ 107    2  118   64  694   23  239]\n",
      " [  12    1   74   41   16  664   23]\n",
      " [  43    1   41  100  151   18  879]] \n",
      "\n"
     ]
    },
    {
     "name": "stderr",
     "output_type": "stream",
     "text": [
      "/opt/conda/lib/python3.9/site-packages/torchvision/transforms/functional.py:1603: UserWarning: The default value of the antialias parameter of all the resizing transforms (Resize(), RandomResizedCrop(), etc.) will change from None to True in v0.17, in order to be consistent across the PIL and Tensor backends. To suppress this warning, directly pass antialias=True (recommended, future default), antialias=None (current default, which means False for Tensors and True for PIL), or antialias=False (only works on Tensors - PIL will still use antialiasing). This also applies if you are using the inference transforms from the models weights: update the call to weights.transforms(antialias=True).\n",
      "  warnings.warn(\n"
     ]
    },
    {
     "name": "stdout",
     "output_type": "stream",
     "text": [
      "--------------------------------------------------------\n",
      "Top 1 Accuracy: 69.531903 %\n",
      "Top 2 Accuracy: 85.636668 %\n",
      "Loss: 0.759207\n",
      "Precision: 0.695319\n",
      "Recall: 0.695319\n",
      "F1 Score: 0.695319\n",
      "Confusion Matrix:\n",
      " [[ 599    7   89   53   99   23   88]\n",
      " [  23   73    2    3    8    0    2]\n",
      " [ 112    0  528   37  153   83  111]\n",
      " [  18    1   20 1557   39   50   89]\n",
      " [ 108    2  123   66  684   24  240]\n",
      " [  12    1   73   39   16  668   22]\n",
      " [  42    1   41  100  148   19  882]] \n",
      "\n"
     ]
    },
    {
     "name": "stderr",
     "output_type": "stream",
     "text": [
      "/opt/conda/lib/python3.9/site-packages/torchvision/transforms/functional.py:1603: UserWarning: The default value of the antialias parameter of all the resizing transforms (Resize(), RandomResizedCrop(), etc.) will change from None to True in v0.17, in order to be consistent across the PIL and Tensor backends. To suppress this warning, directly pass antialias=True (recommended, future default), antialias=None (current default, which means False for Tensors and True for PIL), or antialias=False (only works on Tensors - PIL will still use antialiasing). This also applies if you are using the inference transforms from the models weights: update the call to weights.transforms(antialias=True).\n",
      "  warnings.warn(\n"
     ]
    },
    {
     "name": "stdout",
     "output_type": "stream",
     "text": [
      "--------------------------------------------------------\n",
      "Top 1 Accuracy: 69.420451 %\n",
      "Top 2 Accuracy: 85.775982 %\n",
      "Loss: 0.281657\n",
      "Precision: 0.694205\n",
      "Recall: 0.694205\n",
      "F1 Score: 0.694205\n",
      "Confusion Matrix:\n",
      " [[ 625    3   72   52  119   12   75]\n",
      " [  28   61    2    5   11    0    4]\n",
      " [ 121    0  520   36  175   66  106]\n",
      " [  26    0   18 1558   47   36   89]\n",
      " [ 115    0  103   59  738   17  215]\n",
      " [  21    0   81   48   22  635   24]\n",
      " [  53    0   38  100  188    8  846]] \n",
      "\n"
     ]
    },
    {
     "name": "stderr",
     "output_type": "stream",
     "text": [
      "/opt/conda/lib/python3.9/site-packages/torchvision/transforms/functional.py:1603: UserWarning: The default value of the antialias parameter of all the resizing transforms (Resize(), RandomResizedCrop(), etc.) will change from None to True in v0.17, in order to be consistent across the PIL and Tensor backends. To suppress this warning, directly pass antialias=True (recommended, future default), antialias=None (current default, which means False for Tensors and True for PIL), or antialias=False (only works on Tensors - PIL will still use antialiasing). This also applies if you are using the inference transforms from the models weights: update the call to weights.transforms(antialias=True).\n",
      "  warnings.warn(\n"
     ]
    },
    {
     "name": "stdout",
     "output_type": "stream",
     "text": [
      "--------------------------------------------------------\n",
      "Top 1 Accuracy: 69.629423 %\n",
      "Top 2 Accuracy: 85.748119 %\n",
      "Loss: 0.366250\n",
      "Precision: 0.696294\n",
      "Recall: 0.696294\n",
      "F1 Score: 0.696294\n",
      "Confusion Matrix:\n",
      " [[ 615    3   77   54  113   16   80]\n",
      " [  26   67    2    4    9    0    3]\n",
      " [ 118    0  525   37  164   72  108]\n",
      " [  21    1   20 1557   43   41   91]\n",
      " [ 113    0  113   60  713   20  228]\n",
      " [  16    1   78   42   18  652   24]\n",
      " [  47    0   39  100  165   13  869]] \n",
      "\n"
     ]
    },
    {
     "name": "stderr",
     "output_type": "stream",
     "text": [
      "/opt/conda/lib/python3.9/site-packages/torchvision/transforms/functional.py:1603: UserWarning: The default value of the antialias parameter of all the resizing transforms (Resize(), RandomResizedCrop(), etc.) will change from None to True in v0.17, in order to be consistent across the PIL and Tensor backends. To suppress this warning, directly pass antialias=True (recommended, future default), antialias=None (current default, which means False for Tensors and True for PIL), or antialias=False (only works on Tensors - PIL will still use antialiasing). This also applies if you are using the inference transforms from the models weights: update the call to weights.transforms(antialias=True).\n",
      "  warnings.warn(\n"
     ]
    },
    {
     "name": "stdout",
     "output_type": "stream",
     "text": [
      "--------------------------------------------------------\n",
      "Top 1 Accuracy: 69.462246 %\n",
      "Top 2 Accuracy: 85.664531 %\n",
      "Loss: 0.456833\n",
      "Precision: 0.694622\n",
      "Recall: 0.694622\n",
      "F1 Score: 0.694622\n",
      "Confusion Matrix:\n",
      " [[ 610    3   82   53  104   20   86]\n",
      " [  25   68    2    4    9    0    3]\n",
      " [ 114    0  526   36  158   80  110]\n",
      " [  20    1   20 1553   41   45   94]\n",
      " [ 110    0  116   61  698   23  239]\n",
      " [  14    1   76   42   17  658   23]\n",
      " [  45    1   41   99  157   17  873]] \n",
      "\n"
     ]
    },
    {
     "name": "stderr",
     "output_type": "stream",
     "text": [
      "/opt/conda/lib/python3.9/site-packages/torchvision/transforms/functional.py:1603: UserWarning: The default value of the antialias parameter of all the resizing transforms (Resize(), RandomResizedCrop(), etc.) will change from None to True in v0.17, in order to be consistent across the PIL and Tensor backends. To suppress this warning, directly pass antialias=True (recommended, future default), antialias=None (current default, which means False for Tensors and True for PIL), or antialias=False (only works on Tensors - PIL will still use antialiasing). This also applies if you are using the inference transforms from the models weights: update the call to weights.transforms(antialias=True).\n",
      "  warnings.warn(\n"
     ]
    },
    {
     "name": "stdout",
     "output_type": "stream",
     "text": [
      "--------------------------------------------------------\n",
      "Top 1 Accuracy: 69.615492 %\n",
      "Top 2 Accuracy: 85.720256 %\n",
      "Loss: 0.550179\n",
      "Precision: 0.696155\n",
      "Recall: 0.696155\n",
      "F1 Score: 0.696155\n",
      "Confusion Matrix:\n",
      " [[ 608    5   84   53  101   21   86]\n",
      " [  24   70    2    4    8    0    3]\n",
      " [ 113    0  528   36  155   81  111]\n",
      " [  20    1   20 1554   39   47   93]\n",
      " [ 112    1  118   60  692   23  241]\n",
      " [  13    1   74   40   16  664   23]\n",
      " [  43    1   41   99  151   17  881]] \n",
      "\n"
     ]
    },
    {
     "name": "stderr",
     "output_type": "stream",
     "text": [
      "/opt/conda/lib/python3.9/site-packages/torchvision/transforms/functional.py:1603: UserWarning: The default value of the antialias parameter of all the resizing transforms (Resize(), RandomResizedCrop(), etc.) will change from None to True in v0.17, in order to be consistent across the PIL and Tensor backends. To suppress this warning, directly pass antialias=True (recommended, future default), antialias=None (current default, which means False for Tensors and True for PIL), or antialias=False (only works on Tensors - PIL will still use antialiasing). This also applies if you are using the inference transforms from the models weights: update the call to weights.transforms(antialias=True).\n",
      "  warnings.warn(\n"
     ]
    },
    {
     "name": "stdout",
     "output_type": "stream",
     "text": [
      "--------------------------------------------------------\n",
      "Top 1 Accuracy: 69.378657 %\n",
      "Top 2 Accuracy: 85.594873 %\n",
      "Loss: 0.645091\n",
      "Precision: 0.693787\n",
      "Recall: 0.693787\n",
      "F1 Score: 0.693787\n",
      "Confusion Matrix:\n",
      " [[ 601    7   88   53   97   23   89]\n",
      " [  23   72    2    3    8    0    3]\n",
      " [ 113    0  528   36  152   83  112]\n",
      " [  18    1   20 1554   39   50   92]\n",
      " [ 111    2  127   64  675   24  244]\n",
      " [  12    1   73   39   16  668   22]\n",
      " [  43    1   41   99  148   19  882]] \n",
      "\n"
     ]
    },
    {
     "name": "stderr",
     "output_type": "stream",
     "text": [
      "/opt/conda/lib/python3.9/site-packages/torchvision/transforms/functional.py:1603: UserWarning: The default value of the antialias parameter of all the resizing transforms (Resize(), RandomResizedCrop(), etc.) will change from None to True in v0.17, in order to be consistent across the PIL and Tensor backends. To suppress this warning, directly pass antialias=True (recommended, future default), antialias=None (current default, which means False for Tensors and True for PIL), or antialias=False (only works on Tensors - PIL will still use antialiasing). This also applies if you are using the inference transforms from the models weights: update the call to weights.transforms(antialias=True).\n",
      "  warnings.warn(\n"
     ]
    },
    {
     "name": "stdout",
     "output_type": "stream",
     "text": [
      "--------------------------------------------------------\n",
      "Top 1 Accuracy: 69.350794 %\n",
      "Top 2 Accuracy: 85.622736 %\n",
      "Loss: 0.741173\n",
      "Precision: 0.693508\n",
      "Recall: 0.693508\n",
      "F1 Score: 0.693508\n",
      "Confusion Matrix:\n",
      " [[ 600    7   90   53   95   23   90]\n",
      " [  23   73    2    4    7    0    2]\n",
      " [ 112    0  529   37  148   85  113]\n",
      " [  18    1   20 1554   38   51   92]\n",
      " [ 111    2  127   64  671   26  246]\n",
      " [  12    1   73   39   16  668   22]\n",
      " [  43    1   41   99  147   19  883]] \n",
      "\n"
     ]
    },
    {
     "name": "stderr",
     "output_type": "stream",
     "text": [
      "/opt/conda/lib/python3.9/site-packages/torchvision/transforms/functional.py:1603: UserWarning: The default value of the antialias parameter of all the resizing transforms (Resize(), RandomResizedCrop(), etc.) will change from None to True in v0.17, in order to be consistent across the PIL and Tensor backends. To suppress this warning, directly pass antialias=True (recommended, future default), antialias=None (current default, which means False for Tensors and True for PIL), or antialias=False (only works on Tensors - PIL will still use antialiasing). This also applies if you are using the inference transforms from the models weights: update the call to weights.transforms(antialias=True).\n",
      "  warnings.warn(\n"
     ]
    },
    {
     "name": "stdout",
     "output_type": "stream",
     "text": [
      "--------------------------------------------------------\n",
      "Top 1 Accuracy: 69.420451 %\n",
      "Top 2 Accuracy: 85.775982 %\n",
      "Loss: 0.281827\n",
      "Precision: 0.694205\n",
      "Recall: 0.694205\n",
      "F1 Score: 0.694205\n",
      "Confusion Matrix:\n",
      " [[ 625    3   72   52  119   12   75]\n",
      " [  28   61    2    5   11    0    4]\n",
      " [ 121    0  520   36  175   66  106]\n",
      " [  26    0   18 1558   47   36   89]\n",
      " [ 115    0  103   59  738   17  215]\n",
      " [  21    0   81   48   22  635   24]\n",
      " [  53    0   38  100  188    8  846]] \n",
      "\n"
     ]
    },
    {
     "name": "stderr",
     "output_type": "stream",
     "text": [
      "/opt/conda/lib/python3.9/site-packages/torchvision/transforms/functional.py:1603: UserWarning: The default value of the antialias parameter of all the resizing transforms (Resize(), RandomResizedCrop(), etc.) will change from None to True in v0.17, in order to be consistent across the PIL and Tensor backends. To suppress this warning, directly pass antialias=True (recommended, future default), antialias=None (current default, which means False for Tensors and True for PIL), or antialias=False (only works on Tensors - PIL will still use antialiasing). This also applies if you are using the inference transforms from the models weights: update the call to weights.transforms(antialias=True).\n",
      "  warnings.warn(\n"
     ]
    },
    {
     "name": "stdout",
     "output_type": "stream",
     "text": [
      "--------------------------------------------------------\n",
      "Top 1 Accuracy: 69.587629 %\n",
      "Top 2 Accuracy: 85.748119 %\n",
      "Loss: 0.356443\n",
      "Precision: 0.695876\n",
      "Recall: 0.695876\n",
      "F1 Score: 0.695876\n",
      "Confusion Matrix:\n",
      " [[ 611    3   79   53  112   18   82]\n",
      " [  26   67    2    4    9    0    3]\n",
      " [ 116    0  525   37  164   74  108]\n",
      " [  21    1   20 1553   42   44   93]\n",
      " [ 113    0  113   59  715   21  226]\n",
      " [  15    1   78   42   18  653   24]\n",
      " [  44    0   40  100  163   15  871]] \n",
      "\n"
     ]
    },
    {
     "name": "stderr",
     "output_type": "stream",
     "text": [
      "/opt/conda/lib/python3.9/site-packages/torchvision/transforms/functional.py:1603: UserWarning: The default value of the antialias parameter of all the resizing transforms (Resize(), RandomResizedCrop(), etc.) will change from None to True in v0.17, in order to be consistent across the PIL and Tensor backends. To suppress this warning, directly pass antialias=True (recommended, future default), antialias=None (current default, which means False for Tensors and True for PIL), or antialias=False (only works on Tensors - PIL will still use antialiasing). This also applies if you are using the inference transforms from the models weights: update the call to weights.transforms(antialias=True).\n",
      "  warnings.warn(\n"
     ]
    },
    {
     "name": "stdout",
     "output_type": "stream",
     "text": [
      "--------------------------------------------------------\n",
      "Top 1 Accuracy: 69.476177 %\n",
      "Top 2 Accuracy: 85.734188 %\n",
      "Loss: 0.439021\n",
      "Precision: 0.694762\n",
      "Recall: 0.694762\n",
      "F1 Score: 0.694762\n",
      "Confusion Matrix:\n",
      " [[ 605    4   84   52  104   21   88]\n",
      " [  25   68    2    4    9    0    3]\n",
      " [ 113    0  529   36  157   80  109]\n",
      " [  20    1   20 1552   41   48   92]\n",
      " [ 111    0  118   60  697   23  238]\n",
      " [  13    1   76   40   17  661   23]\n",
      " [  42    1   41   98  159   17  875]] \n",
      "\n"
     ]
    },
    {
     "name": "stderr",
     "output_type": "stream",
     "text": [
      "/opt/conda/lib/python3.9/site-packages/torchvision/transforms/functional.py:1603: UserWarning: The default value of the antialias parameter of all the resizing transforms (Resize(), RandomResizedCrop(), etc.) will change from None to True in v0.17, in order to be consistent across the PIL and Tensor backends. To suppress this warning, directly pass antialias=True (recommended, future default), antialias=None (current default, which means False for Tensors and True for PIL), or antialias=False (only works on Tensors - PIL will still use antialiasing). This also applies if you are using the inference transforms from the models weights: update the call to weights.transforms(antialias=True).\n",
      "  warnings.warn(\n"
     ]
    },
    {
     "name": "stdout",
     "output_type": "stream",
     "text": [
      "--------------------------------------------------------\n",
      "Top 1 Accuracy: 69.517972 %\n",
      "Top 2 Accuracy: 85.650599 %\n",
      "Loss: 0.525767\n",
      "Precision: 0.695180\n",
      "Recall: 0.695180\n",
      "F1 Score: 0.695180\n",
      "Confusion Matrix:\n",
      " [[ 601    5   89   53  100   22   88]\n",
      " [  23   72    2    3    8    0    3]\n",
      " [ 113    0  530   35  152   84  110]\n",
      " [  17    1   22 1551   39   51   93]\n",
      " [ 109    2  126   60  686   24  240]\n",
      " [  12    1   73   39   16  668   22]\n",
      " [  40    1   43   96  153   18  882]] \n",
      "\n"
     ]
    },
    {
     "name": "stderr",
     "output_type": "stream",
     "text": [
      "/opt/conda/lib/python3.9/site-packages/torchvision/transforms/functional.py:1603: UserWarning: The default value of the antialias parameter of all the resizing transforms (Resize(), RandomResizedCrop(), etc.) will change from None to True in v0.17, in order to be consistent across the PIL and Tensor backends. To suppress this warning, directly pass antialias=True (recommended, future default), antialias=None (current default, which means False for Tensors and True for PIL), or antialias=False (only works on Tensors - PIL will still use antialiasing). This also applies if you are using the inference transforms from the models weights: update the call to weights.transforms(antialias=True).\n",
      "  warnings.warn(\n"
     ]
    },
    {
     "name": "stdout",
     "output_type": "stream",
     "text": [
      "--------------------------------------------------------\n",
      "Top 1 Accuracy: 69.420451 %\n",
      "Top 2 Accuracy: 85.567010 %\n",
      "Loss: 0.613561\n",
      "Precision: 0.694205\n",
      "Recall: 0.694205\n",
      "F1 Score: 0.694205\n",
      "Confusion Matrix:\n",
      " [[ 596    7   91   53   99   22   90]\n",
      " [  23   72    2    3    8    0    3]\n",
      " [ 110    0  530   35  150   88  111]\n",
      " [  17    1   22 1552   37   52   93]\n",
      " [ 110    2  127   61  679   25  243]\n",
      " [  12    1   72   38   16  670   22]\n",
      " [  39    1   44   97  150   18  884]] \n",
      "\n"
     ]
    },
    {
     "name": "stderr",
     "output_type": "stream",
     "text": [
      "/opt/conda/lib/python3.9/site-packages/torchvision/transforms/functional.py:1603: UserWarning: The default value of the antialias parameter of all the resizing transforms (Resize(), RandomResizedCrop(), etc.) will change from None to True in v0.17, in order to be consistent across the PIL and Tensor backends. To suppress this warning, directly pass antialias=True (recommended, future default), antialias=None (current default, which means False for Tensors and True for PIL), or antialias=False (only works on Tensors - PIL will still use antialiasing). This also applies if you are using the inference transforms from the models weights: update the call to weights.transforms(antialias=True).\n",
      "  warnings.warn(\n"
     ]
    },
    {
     "name": "stdout",
     "output_type": "stream",
     "text": [
      "--------------------------------------------------------\n",
      "Top 1 Accuracy: 69.197548 %\n",
      "Top 2 Accuracy: 85.525216 %\n",
      "Loss: 0.702529\n",
      "Precision: 0.691975\n",
      "Recall: 0.691975\n",
      "F1 Score: 0.691975\n",
      "Confusion Matrix:\n",
      " [[ 590    8   96   53   96   24   91]\n",
      " [  23   73    3    3    7    0    2]\n",
      " [ 109    0  529   36  148   89  113]\n",
      " [  17    1   22 1551   36   53   94]\n",
      " [ 109    2  131   64  667   27  247]\n",
      " [  12    1   72   37   16  671   22]\n",
      " [  37    1   45   98  147   19  886]] \n",
      "\n"
     ]
    },
    {
     "name": "stderr",
     "output_type": "stream",
     "text": [
      "/opt/conda/lib/python3.9/site-packages/torchvision/transforms/functional.py:1603: UserWarning: The default value of the antialias parameter of all the resizing transforms (Resize(), RandomResizedCrop(), etc.) will change from None to True in v0.17, in order to be consistent across the PIL and Tensor backends. To suppress this warning, directly pass antialias=True (recommended, future default), antialias=None (current default, which means False for Tensors and True for PIL), or antialias=False (only works on Tensors - PIL will still use antialiasing). This also applies if you are using the inference transforms from the models weights: update the call to weights.transforms(antialias=True).\n",
      "  warnings.warn(\n"
     ]
    },
    {
     "name": "stdout",
     "output_type": "stream",
     "text": [
      "--------------------------------------------------------\n",
      "Top 1 Accuracy: 69.420451 %\n",
      "Top 2 Accuracy: 85.775982 %\n",
      "Loss: 0.281633\n",
      "Precision: 0.694205\n",
      "Recall: 0.694205\n",
      "F1 Score: 0.694205\n",
      "Confusion Matrix:\n",
      " [[ 625    3   72   52  119   12   75]\n",
      " [  28   61    2    5   11    0    4]\n",
      " [ 121    0  520   36  175   66  106]\n",
      " [  26    0   18 1558   47   36   89]\n",
      " [ 115    0  103   59  738   17  215]\n",
      " [  21    0   81   48   22  635   24]\n",
      " [  53    0   38  100  188    8  846]] \n",
      "\n"
     ]
    },
    {
     "name": "stderr",
     "output_type": "stream",
     "text": [
      "/opt/conda/lib/python3.9/site-packages/torchvision/transforms/functional.py:1603: UserWarning: The default value of the antialias parameter of all the resizing transforms (Resize(), RandomResizedCrop(), etc.) will change from None to True in v0.17, in order to be consistent across the PIL and Tensor backends. To suppress this warning, directly pass antialias=True (recommended, future default), antialias=None (current default, which means False for Tensors and True for PIL), or antialias=False (only works on Tensors - PIL will still use antialiasing). This also applies if you are using the inference transforms from the models weights: update the call to weights.transforms(antialias=True).\n",
      "  warnings.warn(\n"
     ]
    },
    {
     "name": "stdout",
     "output_type": "stream",
     "text": [
      "--------------------------------------------------------\n",
      "Top 1 Accuracy: 69.545834 %\n",
      "Top 2 Accuracy: 85.887434 %\n",
      "Loss: 0.344453\n",
      "Precision: 0.695458\n",
      "Recall: 0.695458\n",
      "F1 Score: 0.695458\n",
      "Confusion Matrix:\n",
      " [[ 608    3   81   52  115   19   80]\n",
      " [  26   67    2    4    9    0    3]\n",
      " [ 115    0  528   36  164   75  106]\n",
      " [  21    1   21 1550   43   45   93]\n",
      " [ 112    0  115   58  718   22  222]\n",
      " [  14    1   79   42   18  654   23]\n",
      " [  43    0   41   96  171   15  867]] \n",
      "\n"
     ]
    },
    {
     "name": "stderr",
     "output_type": "stream",
     "text": [
      "/opt/conda/lib/python3.9/site-packages/torchvision/transforms/functional.py:1603: UserWarning: The default value of the antialias parameter of all the resizing transforms (Resize(), RandomResizedCrop(), etc.) will change from None to True in v0.17, in order to be consistent across the PIL and Tensor backends. To suppress this warning, directly pass antialias=True (recommended, future default), antialias=None (current default, which means False for Tensors and True for PIL), or antialias=False (only works on Tensors - PIL will still use antialiasing). This also applies if you are using the inference transforms from the models weights: update the call to weights.transforms(antialias=True).\n",
      "  warnings.warn(\n"
     ]
    },
    {
     "name": "stdout",
     "output_type": "stream",
     "text": [
      "--------------------------------------------------------\n",
      "Top 1 Accuracy: 69.420451 %\n",
      "Top 2 Accuracy: 85.789914 %\n",
      "Loss: 0.417295\n",
      "Precision: 0.694205\n",
      "Recall: 0.694205\n",
      "F1 Score: 0.694205\n",
      "Confusion Matrix:\n",
      " [[ 600    4   89   51  109   22   83]\n",
      " [  24   70    2    3    9    0    3]\n",
      " [ 111    0  534   35  155   84  105]\n",
      " [  19    1   23 1546   41   50   94]\n",
      " [ 111    1  127   57  697   24  230]\n",
      " [  12    1   76   40   17  663   22]\n",
      " [  40    1   44   95  162   18  873]] \n",
      "\n"
     ]
    },
    {
     "name": "stderr",
     "output_type": "stream",
     "text": [
      "/opt/conda/lib/python3.9/site-packages/torchvision/transforms/functional.py:1603: UserWarning: The default value of the antialias parameter of all the resizing transforms (Resize(), RandomResizedCrop(), etc.) will change from None to True in v0.17, in order to be consistent across the PIL and Tensor backends. To suppress this warning, directly pass antialias=True (recommended, future default), antialias=None (current default, which means False for Tensors and True for PIL), or antialias=False (only works on Tensors - PIL will still use antialiasing). This also applies if you are using the inference transforms from the models weights: update the call to weights.transforms(antialias=True).\n",
      "  warnings.warn(\n"
     ]
    },
    {
     "name": "stdout",
     "output_type": "stream",
     "text": [
      "--------------------------------------------------------\n",
      "Top 1 Accuracy: 69.392588 %\n",
      "Top 2 Accuracy: 85.650599 %\n",
      "Loss: 0.494600\n",
      "Precision: 0.693926\n",
      "Recall: 0.693926\n",
      "F1 Score: 0.693926\n",
      "Confusion Matrix:\n",
      " [[ 592    6   96   52  103   22   87]\n",
      " [  23   73    3    3    7    0    2]\n",
      " [ 109    0  535   33  153   86  108]\n",
      " [  17    1   23 1546   40   52   95]\n",
      " [ 108    2  132   58  687   25  235]\n",
      " [  12    1   73   36   16  671   22]\n",
      " [  38    1   46   94  159   18  877]] \n",
      "\n"
     ]
    },
    {
     "name": "stderr",
     "output_type": "stream",
     "text": [
      "/opt/conda/lib/python3.9/site-packages/torchvision/transforms/functional.py:1603: UserWarning: The default value of the antialias parameter of all the resizing transforms (Resize(), RandomResizedCrop(), etc.) will change from None to True in v0.17, in order to be consistent across the PIL and Tensor backends. To suppress this warning, directly pass antialias=True (recommended, future default), antialias=None (current default, which means False for Tensors and True for PIL), or antialias=False (only works on Tensors - PIL will still use antialiasing). This also applies if you are using the inference transforms from the models weights: update the call to weights.transforms(antialias=True).\n",
      "  warnings.warn(\n"
     ]
    },
    {
     "name": "stdout",
     "output_type": "stream",
     "text": [
      "--------------------------------------------------------\n",
      "Top 1 Accuracy: 69.253274 %\n",
      "Top 2 Accuracy: 85.539147 %\n",
      "Loss: 0.574322\n",
      "Precision: 0.692533\n",
      "Recall: 0.692533\n",
      "F1 Score: 0.692533\n",
      "Confusion Matrix:\n",
      " [[ 587    8   97   53  101   23   89]\n",
      " [  23   73    3    3    7    0    2]\n",
      " [ 109    0  535   33  150   89  108]\n",
      " [  16    1   24 1545   39   54   95]\n",
      " [ 105    2  137   57  682   26  238]\n",
      " [  12    1   73   36   16  671   22]\n",
      " [  37    1   47   95  157   18  878]] \n",
      "\n"
     ]
    },
    {
     "name": "stderr",
     "output_type": "stream",
     "text": [
      "/opt/conda/lib/python3.9/site-packages/torchvision/transforms/functional.py:1603: UserWarning: The default value of the antialias parameter of all the resizing transforms (Resize(), RandomResizedCrop(), etc.) will change from None to True in v0.17, in order to be consistent across the PIL and Tensor backends. To suppress this warning, directly pass antialias=True (recommended, future default), antialias=None (current default, which means False for Tensors and True for PIL), or antialias=False (only works on Tensors - PIL will still use antialiasing). This also applies if you are using the inference transforms from the models weights: update the call to weights.transforms(antialias=True).\n",
      "  warnings.warn(\n"
     ]
    },
    {
     "name": "stdout",
     "output_type": "stream",
     "text": [
      "--------------------------------------------------------\n",
      "Top 1 Accuracy: 69.281137 %\n",
      "Top 2 Accuracy: 85.330176 %\n",
      "Loss: 0.655708\n",
      "Precision: 0.692811\n",
      "Recall: 0.692811\n",
      "F1 Score: 0.692811\n",
      "Confusion Matrix:\n",
      " [[ 587    8   97   53  101   23   89]\n",
      " [  22   73    3    3    7    1    2]\n",
      " [ 106    0  538   32  147   90  111]\n",
      " [  16    1   24 1545   38   56   94]\n",
      " [ 104    2  139   57  677   28  240]\n",
      " [  12    1   72   34   16  675   21]\n",
      " [  37    1   48   96  154   19  878]] \n",
      "\n"
     ]
    },
    {
     "name": "stderr",
     "output_type": "stream",
     "text": [
      "/opt/conda/lib/python3.9/site-packages/torchvision/transforms/functional.py:1603: UserWarning: The default value of the antialias parameter of all the resizing transforms (Resize(), RandomResizedCrop(), etc.) will change from None to True in v0.17, in order to be consistent across the PIL and Tensor backends. To suppress this warning, directly pass antialias=True (recommended, future default), antialias=None (current default, which means False for Tensors and True for PIL), or antialias=False (only works on Tensors - PIL will still use antialiasing). This also applies if you are using the inference transforms from the models weights: update the call to weights.transforms(antialias=True).\n",
      "  warnings.warn(\n"
     ]
    },
    {
     "name": "stdout",
     "output_type": "stream",
     "text": [
      "--------------------------------------------------------\n",
      "Top 1 Accuracy: 69.420451 %\n",
      "Top 2 Accuracy: 85.775982 %\n",
      "Loss: 0.281829\n",
      "Precision: 0.694205\n",
      "Recall: 0.694205\n",
      "F1 Score: 0.694205\n",
      "Confusion Matrix:\n",
      " [[ 625    3   72   52  119   12   75]\n",
      " [  28   61    2    5   11    0    4]\n",
      " [ 121    0  520   36  175   66  106]\n",
      " [  26    0   18 1558   47   36   89]\n",
      " [ 115    0  103   59  738   17  215]\n",
      " [  21    0   81   48   22  635   24]\n",
      " [  53    0   38  100  188    8  846]] \n",
      "\n"
     ]
    },
    {
     "name": "stderr",
     "output_type": "stream",
     "text": [
      "/opt/conda/lib/python3.9/site-packages/torchvision/transforms/functional.py:1603: UserWarning: The default value of the antialias parameter of all the resizing transforms (Resize(), RandomResizedCrop(), etc.) will change from None to True in v0.17, in order to be consistent across the PIL and Tensor backends. To suppress this warning, directly pass antialias=True (recommended, future default), antialias=None (current default, which means False for Tensors and True for PIL), or antialias=False (only works on Tensors - PIL will still use antialiasing). This also applies if you are using the inference transforms from the models weights: update the call to weights.transforms(antialias=True).\n",
      "  warnings.warn(\n"
     ]
    },
    {
     "name": "stdout",
     "output_type": "stream",
     "text": [
      "--------------------------------------------------------\n",
      "Top 1 Accuracy: 69.517972 %\n",
      "Top 2 Accuracy: 85.817777 %\n",
      "Loss: 0.327961\n",
      "Precision: 0.695180\n",
      "Recall: 0.695180\n",
      "F1 Score: 0.695180\n",
      "Confusion Matrix:\n",
      " [[ 608    3   83   49  117   20   78]\n",
      " [  26   67    2    4    9    0    3]\n",
      " [ 114    0  534   35  161   75  105]\n",
      " [  21    0   23 1549   43   45   93]\n",
      " [ 113    0  120   58  720   21  215]\n",
      " [  15    1   79   41   18  655   22]\n",
      " [  43    0   47   93  178   15  857]] \n",
      "\n"
     ]
    },
    {
     "name": "stderr",
     "output_type": "stream",
     "text": [
      "/opt/conda/lib/python3.9/site-packages/torchvision/transforms/functional.py:1603: UserWarning: The default value of the antialias parameter of all the resizing transforms (Resize(), RandomResizedCrop(), etc.) will change from None to True in v0.17, in order to be consistent across the PIL and Tensor backends. To suppress this warning, directly pass antialias=True (recommended, future default), antialias=None (current default, which means False for Tensors and True for PIL), or antialias=False (only works on Tensors - PIL will still use antialiasing). This also applies if you are using the inference transforms from the models weights: update the call to weights.transforms(antialias=True).\n",
      "  warnings.warn(\n"
     ]
    },
    {
     "name": "stdout",
     "output_type": "stream",
     "text": [
      "--------------------------------------------------------\n",
      "Top 1 Accuracy: 69.364726 %\n",
      "Top 2 Accuracy: 85.692393 %\n",
      "Loss: 0.387151\n",
      "Precision: 0.693647\n",
      "Recall: 0.693647\n",
      "F1 Score: 0.693647\n",
      "Confusion Matrix:\n",
      " [[ 596    4   95   49  113   22   79]\n",
      " [  24   71    3    3    8    0    2]\n",
      " [ 111    0  540   34  155   81  103]\n",
      " [  17    1   25 1548   42   51   90]\n",
      " [ 110    1  132   57  702   24  221]\n",
      " [  12    1   78   37   17  664   22]\n",
      " [  41    1   50   92  173   18  858]] \n",
      "\n"
     ]
    },
    {
     "name": "stderr",
     "output_type": "stream",
     "text": [
      "/opt/conda/lib/python3.9/site-packages/torchvision/transforms/functional.py:1603: UserWarning: The default value of the antialias parameter of all the resizing transforms (Resize(), RandomResizedCrop(), etc.) will change from None to True in v0.17, in order to be consistent across the PIL and Tensor backends. To suppress this warning, directly pass antialias=True (recommended, future default), antialias=None (current default, which means False for Tensors and True for PIL), or antialias=False (only works on Tensors - PIL will still use antialiasing). This also applies if you are using the inference transforms from the models weights: update the call to weights.transforms(antialias=True).\n",
      "  warnings.warn(\n"
     ]
    },
    {
     "name": "stdout",
     "output_type": "stream",
     "text": [
      "--------------------------------------------------------\n",
      "Top 1 Accuracy: 69.295068 %\n",
      "Top 2 Accuracy: 85.511284 %\n",
      "Loss: 0.452465\n",
      "Precision: 0.692951\n",
      "Recall: 0.692951\n",
      "F1 Score: 0.692951\n",
      "Confusion Matrix:\n",
      " [[ 588    7   99   52  111   24   77]\n",
      " [  22   73    3    3    7    1    2]\n",
      " [ 105    0  544   34  153   86  102]\n",
      " [  16    1   25 1547   39   55   91]\n",
      " [ 108    2  140   57  691   27  222]\n",
      " [  12    1   77   34   16  670   21]\n",
      " [  39    1   52   93  168   19  861]] \n",
      "\n"
     ]
    },
    {
     "name": "stderr",
     "output_type": "stream",
     "text": [
      "/opt/conda/lib/python3.9/site-packages/torchvision/transforms/functional.py:1603: UserWarning: The default value of the antialias parameter of all the resizing transforms (Resize(), RandomResizedCrop(), etc.) will change from None to True in v0.17, in order to be consistent across the PIL and Tensor backends. To suppress this warning, directly pass antialias=True (recommended, future default), antialias=None (current default, which means False for Tensors and True for PIL), or antialias=False (only works on Tensors - PIL will still use antialiasing). This also applies if you are using the inference transforms from the models weights: update the call to weights.transforms(antialias=True).\n",
      "  warnings.warn(\n"
     ]
    },
    {
     "name": "stdout",
     "output_type": "stream",
     "text": [
      "--------------------------------------------------------\n",
      "Top 1 Accuracy: 69.169685 %\n",
      "Top 2 Accuracy: 85.483422 %\n",
      "Loss: 0.520328\n",
      "Precision: 0.691697\n",
      "Recall: 0.691697\n",
      "F1 Score: 0.691697\n",
      "Confusion Matrix:\n",
      " [[ 584    8  102   52  107   24   81]\n",
      " [  21   74    4    3    6    1    2]\n",
      " [ 104    0  548   33  150   88  101]\n",
      " [  16    1   25 1543   39   58   92]\n",
      " [ 105    2  144   56  686   30  224]\n",
      " [  12    1   77   34   15  671   21]\n",
      " [  37    1   53   94  168   21  859]] \n",
      "\n"
     ]
    },
    {
     "name": "stderr",
     "output_type": "stream",
     "text": [
      "/opt/conda/lib/python3.9/site-packages/torchvision/transforms/functional.py:1603: UserWarning: The default value of the antialias parameter of all the resizing transforms (Resize(), RandomResizedCrop(), etc.) will change from None to True in v0.17, in order to be consistent across the PIL and Tensor backends. To suppress this warning, directly pass antialias=True (recommended, future default), antialias=None (current default, which means False for Tensors and True for PIL), or antialias=False (only works on Tensors - PIL will still use antialiasing). This also applies if you are using the inference transforms from the models weights: update the call to weights.transforms(antialias=True).\n",
      "  warnings.warn(\n"
     ]
    },
    {
     "name": "stdout",
     "output_type": "stream",
     "text": [
      "--------------------------------------------------------\n",
      "Top 1 Accuracy: 69.113959 %\n",
      "Top 2 Accuracy: 85.371970 %\n",
      "Loss: 0.590634\n",
      "Precision: 0.691140\n",
      "Recall: 0.691140\n",
      "F1 Score: 0.691140\n",
      "Confusion Matrix:\n",
      " [[ 582    8  104   52  104   25   83]\n",
      " [  19   77    4    3    5    1    2]\n",
      " [ 103    0  549   33  147   91  101]\n",
      " [  16    1   26 1542   37   59   93]\n",
      " [ 104    2  147   56  681   31  226]\n",
      " [  12    1   76   32   15  675   20]\n",
      " [  37    1   57   94  164   25  855]] \n",
      "\n"
     ]
    },
    {
     "name": "stderr",
     "output_type": "stream",
     "text": [
      "/opt/conda/lib/python3.9/site-packages/torchvision/transforms/functional.py:1603: UserWarning: The default value of the antialias parameter of all the resizing transforms (Resize(), RandomResizedCrop(), etc.) will change from None to True in v0.17, in order to be consistent across the PIL and Tensor backends. To suppress this warning, directly pass antialias=True (recommended, future default), antialias=None (current default, which means False for Tensors and True for PIL), or antialias=False (only works on Tensors - PIL will still use antialiasing). This also applies if you are using the inference transforms from the models weights: update the call to weights.transforms(antialias=True).\n",
      "  warnings.warn(\n"
     ]
    },
    {
     "name": "stdout",
     "output_type": "stream",
     "text": [
      "--------------------------------------------------------\n",
      "Top 1 Accuracy: 69.420451 %\n",
      "Top 2 Accuracy: 85.775982 %\n",
      "Loss: 0.281708\n",
      "Precision: 0.694205\n",
      "Recall: 0.694205\n",
      "F1 Score: 0.694205\n",
      "Confusion Matrix:\n",
      " [[ 625    3   72   52  119   12   75]\n",
      " [  28   61    2    5   11    0    4]\n",
      " [ 121    0  520   36  175   66  106]\n",
      " [  26    0   18 1558   47   36   89]\n",
      " [ 115    0  103   59  738   17  215]\n",
      " [  21    0   81   48   22  635   24]\n",
      " [  53    0   38  100  188    8  846]] \n",
      "\n"
     ]
    },
    {
     "name": "stderr",
     "output_type": "stream",
     "text": [
      "/opt/conda/lib/python3.9/site-packages/torchvision/transforms/functional.py:1603: UserWarning: The default value of the antialias parameter of all the resizing transforms (Resize(), RandomResizedCrop(), etc.) will change from None to True in v0.17, in order to be consistent across the PIL and Tensor backends. To suppress this warning, directly pass antialias=True (recommended, future default), antialias=None (current default, which means False for Tensors and True for PIL), or antialias=False (only works on Tensors - PIL will still use antialiasing). This also applies if you are using the inference transforms from the models weights: update the call to weights.transforms(antialias=True).\n",
      "  warnings.warn(\n"
     ]
    },
    {
     "name": "stdout",
     "output_type": "stream",
     "text": [
      "--------------------------------------------------------\n",
      "Top 1 Accuracy: 69.545834 %\n",
      "Top 2 Accuracy: 85.734188 %\n",
      "Loss: 0.311664\n",
      "Precision: 0.695458\n",
      "Recall: 0.695458\n",
      "F1 Score: 0.695458\n",
      "Confusion Matrix:\n",
      " [[ 612    3   87   46  119   19   72]\n",
      " [  26   67    2    4    9    0    3]\n",
      " [ 113    0  540   33  166   71  101]\n",
      " [  23    0   24 1543   48   47   89]\n",
      " [ 116    0  120   55  728   21  207]\n",
      " [  15    1   80   38   18  657   22]\n",
      " [  48    1   50   90  184   15  845]] \n",
      "\n"
     ]
    },
    {
     "name": "stderr",
     "output_type": "stream",
     "text": [
      "/opt/conda/lib/python3.9/site-packages/torchvision/transforms/functional.py:1603: UserWarning: The default value of the antialias parameter of all the resizing transforms (Resize(), RandomResizedCrop(), etc.) will change from None to True in v0.17, in order to be consistent across the PIL and Tensor backends. To suppress this warning, directly pass antialias=True (recommended, future default), antialias=None (current default, which means False for Tensors and True for PIL), or antialias=False (only works on Tensors - PIL will still use antialiasing). This also applies if you are using the inference transforms from the models weights: update the call to weights.transforms(antialias=True).\n",
      "  warnings.warn(\n"
     ]
    },
    {
     "name": "stdout",
     "output_type": "stream",
     "text": [
      "--------------------------------------------------------\n",
      "Top 1 Accuracy: 69.295068 %\n",
      "Top 2 Accuracy: 85.539147 %\n",
      "Loss: 0.357531\n",
      "Precision: 0.692951\n",
      "Recall: 0.692951\n",
      "F1 Score: 0.692951\n",
      "Confusion Matrix:\n",
      " [[ 601    4   99   43  118   23   70]\n",
      " [  23   72    2    3    9    0    2]\n",
      " [ 112    0  547   31  157   81   96]\n",
      " [  20    1   26 1537   48   54   88]\n",
      " [ 110    2  141   54  714   24  202]\n",
      " [  13    1   79   33   18  666   21]\n",
      " [  44    1   55   89  189   18  837]] \n",
      "\n"
     ]
    },
    {
     "name": "stderr",
     "output_type": "stream",
     "text": [
      "/opt/conda/lib/python3.9/site-packages/torchvision/transforms/functional.py:1603: UserWarning: The default value of the antialias parameter of all the resizing transforms (Resize(), RandomResizedCrop(), etc.) will change from None to True in v0.17, in order to be consistent across the PIL and Tensor backends. To suppress this warning, directly pass antialias=True (recommended, future default), antialias=None (current default, which means False for Tensors and True for PIL), or antialias=False (only works on Tensors - PIL will still use antialiasing). This also applies if you are using the inference transforms from the models weights: update the call to weights.transforms(antialias=True).\n",
      "  warnings.warn(\n"
     ]
    },
    {
     "name": "stdout",
     "output_type": "stream",
     "text": [
      "--------------------------------------------------------\n",
      "Top 1 Accuracy: 69.113959 %\n",
      "Top 2 Accuracy: 85.469490 %\n",
      "Loss: 0.410197\n",
      "Precision: 0.691140\n",
      "Recall: 0.691140\n",
      "F1 Score: 0.691140\n",
      "Confusion Matrix:\n",
      " [[ 595    7  103   41  117   25   70]\n",
      " [  23   73    4    3    6    0    2]\n",
      " [ 110    0  550   31  157   84   92]\n",
      " [  20    1   30 1532   46   59   86]\n",
      " [ 109    2  147   54  709   27  199]\n",
      " [  12    1   81   32   15  670   20]\n",
      " [  45    1   56   89  189   21  832]] \n",
      "\n"
     ]
    },
    {
     "name": "stderr",
     "output_type": "stream",
     "text": [
      "/opt/conda/lib/python3.9/site-packages/torchvision/transforms/functional.py:1603: UserWarning: The default value of the antialias parameter of all the resizing transforms (Resize(), RandomResizedCrop(), etc.) will change from None to True in v0.17, in order to be consistent across the PIL and Tensor backends. To suppress this warning, directly pass antialias=True (recommended, future default), antialias=None (current default, which means False for Tensors and True for PIL), or antialias=False (only works on Tensors - PIL will still use antialiasing). This also applies if you are using the inference transforms from the models weights: update the call to weights.transforms(antialias=True).\n",
      "  warnings.warn(\n"
     ]
    },
    {
     "name": "stdout",
     "output_type": "stream",
     "text": [
      "--------------------------------------------------------\n",
      "Top 1 Accuracy: 69.058233 %\n",
      "Top 2 Accuracy: 85.385901 %\n",
      "Loss: 0.466977\n",
      "Precision: 0.690582\n",
      "Recall: 0.690582\n",
      "F1 Score: 0.690582\n",
      "Confusion Matrix:\n",
      " [[ 591    8  107   40  116   26   70]\n",
      " [  18   77    4    3    6    1    2]\n",
      " [ 108    0  555   31  153   87   90]\n",
      " [  20    1   30 1528   45   63   87]\n",
      " [ 107    2  151   53  706   29  199]\n",
      " [  12    1   79   32   15  672   20]\n",
      " [  44    1   58   88  186   28  828]] \n",
      "\n"
     ]
    },
    {
     "name": "stderr",
     "output_type": "stream",
     "text": [
      "/opt/conda/lib/python3.9/site-packages/torchvision/transforms/functional.py:1603: UserWarning: The default value of the antialias parameter of all the resizing transforms (Resize(), RandomResizedCrop(), etc.) will change from None to True in v0.17, in order to be consistent across the PIL and Tensor backends. To suppress this warning, directly pass antialias=True (recommended, future default), antialias=None (current default, which means False for Tensors and True for PIL), or antialias=False (only works on Tensors - PIL will still use antialiasing). This also applies if you are using the inference transforms from the models weights: update the call to weights.transforms(antialias=True).\n",
      "  warnings.warn(\n"
     ]
    },
    {
     "name": "stdout",
     "output_type": "stream",
     "text": [
      "--------------------------------------------------------\n",
      "Top 1 Accuracy: 68.891056 %\n",
      "Top 2 Accuracy: 85.330176 %\n",
      "Loss: 0.525686\n",
      "Precision: 0.688911\n",
      "Recall: 0.688911\n",
      "F1 Score: 0.688911\n",
      "Confusion Matrix:\n",
      " [[ 587    8  110   39  116   28   70]\n",
      " [  18   78    4    3    5    1    2]\n",
      " [ 106    1  556   29  151   91   90]\n",
      " [  19    1   31 1523   44   68   88]\n",
      " [ 106    2  155   53  700   32  199]\n",
      " [  12    1   78   31   15  674   20]\n",
      " [  44    1   60   88  183   30  827]] \n",
      "\n"
     ]
    },
    {
     "name": "stderr",
     "output_type": "stream",
     "text": [
      "/opt/conda/lib/python3.9/site-packages/torchvision/transforms/functional.py:1603: UserWarning: The default value of the antialias parameter of all the resizing transforms (Resize(), RandomResizedCrop(), etc.) will change from None to True in v0.17, in order to be consistent across the PIL and Tensor backends. To suppress this warning, directly pass antialias=True (recommended, future default), antialias=None (current default, which means False for Tensors and True for PIL), or antialias=False (only works on Tensors - PIL will still use antialiasing). This also applies if you are using the inference transforms from the models weights: update the call to weights.transforms(antialias=True).\n",
      "  warnings.warn(\n"
     ]
    },
    {
     "name": "stdout",
     "output_type": "stream",
     "text": [
      "--------------------------------------------------------\n",
      "Top 1 Accuracy: 69.420451 %\n",
      "Top 2 Accuracy: 85.775982 %\n",
      "Loss: 0.281838\n",
      "Precision: 0.694205\n",
      "Recall: 0.694205\n",
      "F1 Score: 0.694205\n",
      "Confusion Matrix:\n",
      " [[ 625    3   72   52  119   12   75]\n",
      " [  28   61    2    5   11    0    4]\n",
      " [ 121    0  520   36  175   66  106]\n",
      " [  26    0   18 1558   47   36   89]\n",
      " [ 115    0  103   59  738   17  215]\n",
      " [  21    0   81   48   22  635   24]\n",
      " [  53    0   38  100  188    8  846]] \n",
      "\n"
     ]
    },
    {
     "name": "stderr",
     "output_type": "stream",
     "text": [
      "/opt/conda/lib/python3.9/site-packages/torchvision/transforms/functional.py:1603: UserWarning: The default value of the antialias parameter of all the resizing transforms (Resize(), RandomResizedCrop(), etc.) will change from None to True in v0.17, in order to be consistent across the PIL and Tensor backends. To suppress this warning, directly pass antialias=True (recommended, future default), antialias=None (current default, which means False for Tensors and True for PIL), or antialias=False (only works on Tensors - PIL will still use antialiasing). This also applies if you are using the inference transforms from the models weights: update the call to weights.transforms(antialias=True).\n",
      "  warnings.warn(\n"
     ]
    },
    {
     "name": "stdout",
     "output_type": "stream",
     "text": [
      "--------------------------------------------------------\n",
      "Top 1 Accuracy: 69.392588 %\n",
      "Top 2 Accuracy: 85.762051 %\n",
      "Loss: 0.297331\n",
      "Precision: 0.693926\n",
      "Recall: 0.693926\n",
      "F1 Score: 0.693926\n",
      "Confusion Matrix:\n",
      " [[ 609    3   90   45  122   19   70]\n",
      " [  26   67    2    4    9    0    3]\n",
      " [ 115    0  544   32  166   71   96]\n",
      " [  24    0   25 1538   48   50   89]\n",
      " [ 116    0  122   52  734   22  201]\n",
      " [  15    1   84   34   18  658   21]\n",
      " [  52    1   53   87  193   16  831]] \n",
      "\n"
     ]
    },
    {
     "name": "stderr",
     "output_type": "stream",
     "text": [
      "/opt/conda/lib/python3.9/site-packages/torchvision/transforms/functional.py:1603: UserWarning: The default value of the antialias parameter of all the resizing transforms (Resize(), RandomResizedCrop(), etc.) will change from None to True in v0.17, in order to be consistent across the PIL and Tensor backends. To suppress this warning, directly pass antialias=True (recommended, future default), antialias=None (current default, which means False for Tensors and True for PIL), or antialias=False (only works on Tensors - PIL will still use antialiasing). This also applies if you are using the inference transforms from the models weights: update the call to weights.transforms(antialias=True).\n",
      "  warnings.warn(\n"
     ]
    },
    {
     "name": "stdout",
     "output_type": "stream",
     "text": [
      "--------------------------------------------------------\n",
      "Top 1 Accuracy: 69.267205 %\n",
      "Top 2 Accuracy: 85.469490 %\n",
      "Loss: 0.331625\n",
      "Precision: 0.692672\n",
      "Recall: 0.692672\n",
      "F1 Score: 0.692672\n",
      "Confusion Matrix:\n",
      " [[ 598    5  102   41  120   24   68]\n",
      " [  23   72    2    3    9    0    2]\n",
      " [ 110    0  550   29  163   79   93]\n",
      " [  20    1   28 1530   50   58   87]\n",
      " [ 109    2  141   50  729   24  192]\n",
      " [  13    1   82   32   18  666   19]\n",
      " [  47    1   59   86  196   17  827]] \n",
      "\n"
     ]
    },
    {
     "name": "stderr",
     "output_type": "stream",
     "text": [
      "/opt/conda/lib/python3.9/site-packages/torchvision/transforms/functional.py:1603: UserWarning: The default value of the antialias parameter of all the resizing transforms (Resize(), RandomResizedCrop(), etc.) will change from None to True in v0.17, in order to be consistent across the PIL and Tensor backends. To suppress this warning, directly pass antialias=True (recommended, future default), antialias=None (current default, which means False for Tensors and True for PIL), or antialias=False (only works on Tensors - PIL will still use antialiasing). This also applies if you are using the inference transforms from the models weights: update the call to weights.transforms(antialias=True).\n",
      "  warnings.warn(\n"
     ]
    },
    {
     "name": "stdout",
     "output_type": "stream",
     "text": [
      "--------------------------------------------------------\n",
      "Top 1 Accuracy: 69.072165 %\n",
      "Top 2 Accuracy: 85.413764 %\n",
      "Loss: 0.373960\n",
      "Precision: 0.690722\n",
      "Recall: 0.690722\n",
      "F1 Score: 0.690722\n",
      "Confusion Matrix:\n",
      " [[ 594    7  106   38  121   26   66]\n",
      " [  20   75    4    3    6    1    2]\n",
      " [ 107    0  559   29  159   82   88]\n",
      " [  20    1   34 1518   47   65   89]\n",
      " [ 106    2  152   49  722   27  189]\n",
      " [  13    1   83   29   16  670   19]\n",
      " [  47    1   59   83  196   27  820]] \n",
      "\n"
     ]
    },
    {
     "name": "stderr",
     "output_type": "stream",
     "text": [
      "/opt/conda/lib/python3.9/site-packages/torchvision/transforms/functional.py:1603: UserWarning: The default value of the antialias parameter of all the resizing transforms (Resize(), RandomResizedCrop(), etc.) will change from None to True in v0.17, in order to be consistent across the PIL and Tensor backends. To suppress this warning, directly pass antialias=True (recommended, future default), antialias=None (current default, which means False for Tensors and True for PIL), or antialias=False (only works on Tensors - PIL will still use antialiasing). This also applies if you are using the inference transforms from the models weights: update the call to weights.transforms(antialias=True).\n",
      "  warnings.warn(\n"
     ]
    },
    {
     "name": "stdout",
     "output_type": "stream",
     "text": [
      "--------------------------------------------------------\n",
      "Top 1 Accuracy: 68.932850 %\n",
      "Top 2 Accuracy: 85.316244 %\n",
      "Loss: 0.420985\n",
      "Precision: 0.689329\n",
      "Recall: 0.689329\n",
      "F1 Score: 0.689329\n",
      "Confusion Matrix:\n",
      " [[ 587    8  111   37  121   29   65]\n",
      " [  18   77    4    3    6    1    2]\n",
      " [ 103    0  564   27  153   89   88]\n",
      " [  20    1   37 1510   46   71   89]\n",
      " [ 104    2  154   48  718   33  188]\n",
      " [  13    1   78   28   15  677   19]\n",
      " [  44    1   65   81  195   32  815]] \n",
      "\n"
     ]
    },
    {
     "name": "stderr",
     "output_type": "stream",
     "text": [
      "/opt/conda/lib/python3.9/site-packages/torchvision/transforms/functional.py:1603: UserWarning: The default value of the antialias parameter of all the resizing transforms (Resize(), RandomResizedCrop(), etc.) will change from None to True in v0.17, in order to be consistent across the PIL and Tensor backends. To suppress this warning, directly pass antialias=True (recommended, future default), antialias=None (current default, which means False for Tensors and True for PIL), or antialias=False (only works on Tensors - PIL will still use antialiasing). This also applies if you are using the inference transforms from the models weights: update the call to weights.transforms(antialias=True).\n",
      "  warnings.warn(\n"
     ]
    },
    {
     "name": "stdout",
     "output_type": "stream",
     "text": [
      "--------------------------------------------------------\n",
      "Top 1 Accuracy: 68.668153 %\n",
      "Top 2 Accuracy: 85.218724 %\n",
      "Loss: 0.470682\n",
      "Precision: 0.686682\n",
      "Recall: 0.686682\n",
      "F1 Score: 0.686682\n",
      "Confusion Matrix:\n",
      " [[ 581    9  114   37  122   32   63]\n",
      " [  18   78    4    3    5    1    2]\n",
      " [ 102    1  564   25  151   95   86]\n",
      " [  20    1   37 1503   46   78   89]\n",
      " [ 102    2  162   45  713   36  187]\n",
      " [  12    1   79   28   14  678   19]\n",
      " [  44    1   68   80  194   34  812]] \n",
      "\n"
     ]
    },
    {
     "name": "stderr",
     "output_type": "stream",
     "text": [
      "/opt/conda/lib/python3.9/site-packages/torchvision/transforms/functional.py:1603: UserWarning: The default value of the antialias parameter of all the resizing transforms (Resize(), RandomResizedCrop(), etc.) will change from None to True in v0.17, in order to be consistent across the PIL and Tensor backends. To suppress this warning, directly pass antialias=True (recommended, future default), antialias=None (current default, which means False for Tensors and True for PIL), or antialias=False (only works on Tensors - PIL will still use antialiasing). This also applies if you are using the inference transforms from the models weights: update the call to weights.transforms(antialias=True).\n",
      "  warnings.warn(\n"
     ]
    },
    {
     "name": "stdout",
     "output_type": "stream",
     "text": [
      "--------------------------------------------------------\n",
      "Top 1 Accuracy: 69.420451 %\n",
      "Top 2 Accuracy: 85.775982 %\n",
      "Loss: 0.281630\n",
      "Precision: 0.694205\n",
      "Recall: 0.694205\n",
      "F1 Score: 0.694205\n",
      "Confusion Matrix:\n",
      " [[ 625    3   72   52  119   12   75]\n",
      " [  28   61    2    5   11    0    4]\n",
      " [ 121    0  520   36  175   66  106]\n",
      " [  26    0   18 1558   47   36   89]\n",
      " [ 115    0  103   59  738   17  215]\n",
      " [  21    0   81   48   22  635   24]\n",
      " [  53    0   38  100  188    8  846]] \n",
      "\n"
     ]
    },
    {
     "name": "stderr",
     "output_type": "stream",
     "text": [
      "/opt/conda/lib/python3.9/site-packages/torchvision/transforms/functional.py:1603: UserWarning: The default value of the antialias parameter of all the resizing transforms (Resize(), RandomResizedCrop(), etc.) will change from None to True in v0.17, in order to be consistent across the PIL and Tensor backends. To suppress this warning, directly pass antialias=True (recommended, future default), antialias=None (current default, which means False for Tensors and True for PIL), or antialias=False (only works on Tensors - PIL will still use antialiasing). This also applies if you are using the inference transforms from the models weights: update the call to weights.transforms(antialias=True).\n",
      "  warnings.warn(\n"
     ]
    },
    {
     "name": "stdout",
     "output_type": "stream",
     "text": [
      "--------------------------------------------------------\n",
      "Top 1 Accuracy: 69.364726 %\n",
      "Top 2 Accuracy: 85.706325 %\n",
      "Loss: 0.282293\n",
      "Precision: 0.693647\n",
      "Recall: 0.693647\n",
      "F1 Score: 0.693647\n",
      "Confusion Matrix:\n",
      " [[ 611    3   90   40  129   19   66]\n",
      " [  26   67    2    4    9    0    3]\n",
      " [ 115    0  545   30  170   71   93]\n",
      " [  25    0   24 1535   55   49   86]\n",
      " [ 116    0  121   49  750   21  190]\n",
      " [  16    1   87   33   19  654   21]\n",
      " [  54    1   54   86  208   13  817]] \n",
      "\n"
     ]
    },
    {
     "name": "stderr",
     "output_type": "stream",
     "text": [
      "/opt/conda/lib/python3.9/site-packages/torchvision/transforms/functional.py:1603: UserWarning: The default value of the antialias parameter of all the resizing transforms (Resize(), RandomResizedCrop(), etc.) will change from None to True in v0.17, in order to be consistent across the PIL and Tensor backends. To suppress this warning, directly pass antialias=True (recommended, future default), antialias=None (current default, which means False for Tensors and True for PIL), or antialias=False (only works on Tensors - PIL will still use antialiasing). This also applies if you are using the inference transforms from the models weights: update the call to weights.transforms(antialias=True).\n",
      "  warnings.warn(\n"
     ]
    },
    {
     "name": "stdout",
     "output_type": "stream",
     "text": [
      "--------------------------------------------------------\n",
      "Top 1 Accuracy: 69.225411 %\n",
      "Top 2 Accuracy: 85.399833 %\n",
      "Loss: 0.303957\n",
      "Precision: 0.692254\n",
      "Recall: 0.692254\n",
      "F1 Score: 0.692254\n",
      "Confusion Matrix:\n",
      " [[ 600    5  103   38  128   22   62]\n",
      " [  23   72    2    3    9    0    2]\n",
      " [ 109    0  559   27  172   75   82]\n",
      " [  22    1   31 1523   54   57   86]\n",
      " [ 111    1  142   46  751   23  173]\n",
      " [  15    1   87   30   19  660   19]\n",
      " [  54    1   60   81  214   19  804]] \n",
      "\n"
     ]
    },
    {
     "name": "stderr",
     "output_type": "stream",
     "text": [
      "/opt/conda/lib/python3.9/site-packages/torchvision/transforms/functional.py:1603: UserWarning: The default value of the antialias parameter of all the resizing transforms (Resize(), RandomResizedCrop(), etc.) will change from None to True in v0.17, in order to be consistent across the PIL and Tensor backends. To suppress this warning, directly pass antialias=True (recommended, future default), antialias=None (current default, which means False for Tensors and True for PIL), or antialias=False (only works on Tensors - PIL will still use antialiasing). This also applies if you are using the inference transforms from the models weights: update the call to weights.transforms(antialias=True).\n",
      "  warnings.warn(\n"
     ]
    },
    {
     "name": "stdout",
     "output_type": "stream",
     "text": [
      "--------------------------------------------------------\n",
      "Top 1 Accuracy: 68.793536 %\n",
      "Top 2 Accuracy: 85.371970 %\n",
      "Loss: 0.335254\n",
      "Precision: 0.687935\n",
      "Recall: 0.687935\n",
      "F1 Score: 0.687935\n",
      "Confusion Matrix:\n",
      " [[ 592    7  111   36  126   26   60]\n",
      " [  20   76    3    3    7    0    2]\n",
      " [ 102    0  571   25  170   77   79]\n",
      " [  23    1   39 1502   53   66   90]\n",
      " [ 108    2  155   43  748   24  167]\n",
      " [  13    1   86   29   18  665   19]\n",
      " [  55    1   67   78  221   27  784]] \n",
      "\n"
     ]
    },
    {
     "name": "stderr",
     "output_type": "stream",
     "text": [
      "/opt/conda/lib/python3.9/site-packages/torchvision/transforms/functional.py:1603: UserWarning: The default value of the antialias parameter of all the resizing transforms (Resize(), RandomResizedCrop(), etc.) will change from None to True in v0.17, in order to be consistent across the PIL and Tensor backends. To suppress this warning, directly pass antialias=True (recommended, future default), antialias=None (current default, which means False for Tensors and True for PIL), or antialias=False (only works on Tensors - PIL will still use antialiasing). This also applies if you are using the inference transforms from the models weights: update the call to weights.transforms(antialias=True).\n",
      "  warnings.warn(\n"
     ]
    },
    {
     "name": "stdout",
     "output_type": "stream",
     "text": [
      "--------------------------------------------------------\n",
      "Top 1 Accuracy: 68.500975 %\n",
      "Top 2 Accuracy: 85.246587 %\n",
      "Loss: 0.371503\n",
      "Precision: 0.685010\n",
      "Recall: 0.685010\n",
      "F1 Score: 0.685010\n",
      "Confusion Matrix:\n",
      " [[ 585    8  115   36  126   29   59]\n",
      " [  18   77    4    3    6    1    2]\n",
      " [ 100    0  579   20  165   83   77]\n",
      " [  24    2   43 1488   54   73   90]\n",
      " [ 104    2  161   41  744   31  164]\n",
      " [  12    1   85   28   16  670   19]\n",
      " [  53    1   73   76  226   30  774]] \n",
      "\n"
     ]
    },
    {
     "name": "stderr",
     "output_type": "stream",
     "text": [
      "/opt/conda/lib/python3.9/site-packages/torchvision/transforms/functional.py:1603: UserWarning: The default value of the antialias parameter of all the resizing transforms (Resize(), RandomResizedCrop(), etc.) will change from None to True in v0.17, in order to be consistent across the PIL and Tensor backends. To suppress this warning, directly pass antialias=True (recommended, future default), antialias=None (current default, which means False for Tensors and True for PIL), or antialias=False (only works on Tensors - PIL will still use antialiasing). This also applies if you are using the inference transforms from the models weights: update the call to weights.transforms(antialias=True).\n",
      "  warnings.warn(\n"
     ]
    },
    {
     "name": "stdout",
     "output_type": "stream",
     "text": [
      "--------------------------------------------------------\n",
      "Top 1 Accuracy: 68.417386 %\n",
      "Top 2 Accuracy: 85.093341 %\n",
      "Loss: 0.411027\n",
      "Precision: 0.684174\n",
      "Recall: 0.684174\n",
      "F1 Score: 0.684174\n",
      "Confusion Matrix:\n",
      " [[ 580    9  121   33  126   32   57]\n",
      " [  18   78    4    3    5    1    2]\n",
      " [  99    1  585   18  159   86   76]\n",
      " [  24    2   45 1478   54   82   89]\n",
      " [ 102    2  171   39  743   34  156]\n",
      " [  11    1   81   25   15  680   18]\n",
      " [  51    1   78   76  225   35  767]] \n",
      "\n"
     ]
    }
   ],
   "source": [
    "res = {}\n",
    "for tau in np.arange(-1, 2, .25):\n",
    "    for factor in np.arange(1, 4, .5):  # Example factor to modify weights\n",
    "        net2 = copy.deepcopy(net)\n",
    "        for idx in sims.keys():\n",
    "            # Modify weights: Increase for interpretable, decrease for uninterpretable\n",
    "            if sims[idx] > tau: # interpretable\n",
    "                net2.lin2.weight.data[idx] *= factor\n",
    "            else:               # uninterpretable\n",
    "                net2.lin2.weight.data[idx] /= factor\n",
    "        acc1, acc2 = evaluate(net2, val_loader, criterion)\n",
    "        res[(tau, factor)] = acc1"
   ]
  },
  {
   "cell_type": "code",
   "execution_count": 33,
   "id": "3ce7ce42",
   "metadata": {},
   "outputs": [
    {
     "data": {
      "text/plain": [
       "0.20900000000000318"
      ]
     },
     "execution_count": 33,
     "metadata": {},
     "output_type": "execute_result"
    }
   ],
   "source": [
    "69.629 - 69.42"
   ]
  },
  {
   "cell_type": "code",
   "execution_count": 29,
   "id": "46f5f710",
   "metadata": {},
   "outputs": [
    {
     "name": "stdout",
     "output_type": "stream",
     "text": [
      "(-0.5, 1.5) 69.62942323767066\n",
      "(0.0, 1.5) 69.62942323767066\n",
      "(0.25, 1.5) 69.62942323767066\n",
      "(0.25, 2.5) 69.61549178044024\n",
      "(0.0, 2.5) 69.58762886597938\n",
      "(0.5, 1.5) 69.58762886597938\n",
      "(-1.0, 1.5) 69.57369740874896\n",
      "(-0.25, 1.5) 69.57369740874896\n",
      "(0.0, 3.0) 69.57369740874896\n",
      "(-1.0, 2.0) 69.5458344942881\n",
      "(-0.75, 1.5) 69.5458344942881\n",
      "(-0.25, 2.5) 69.5458344942881\n",
      "(0.75, 1.5) 69.5458344942881\n",
      "(1.25, 1.5) 69.5458344942881\n",
      "(-0.25, 3.0) 69.53190303705767\n",
      "(0.0, 2.0) 69.53190303705767\n",
      "(0.0, 3.5) 69.53190303705767\n",
      "(-0.75, 2.0) 69.51797157982725\n",
      "(-0.75, 2.5) 69.51797157982725\n",
      "(-0.25, 3.5) 69.51797157982725\n",
      "(0.5, 2.5) 69.51797157982725\n",
      "(1.0, 1.5) 69.51797157982725\n",
      "(-0.5, 2.5) 69.50404012259682\n",
      "(-1.0, 2.5) 69.49010866536639\n",
      "(-0.5, 2.0) 69.49010866536639\n",
      "(-0.75, 3.0) 69.47617720813597\n",
      "(0.5, 2.0) 69.47617720813597\n",
      "(-0.25, 2.0) 69.46224575090554\n",
      "(0.25, 2.0) 69.46224575090554\n",
      "(-1.0, 1.0) 69.42045137921427\n",
      "(-1.0, 3.0) 69.42045137921427\n",
      "(-0.75, 1.0) 69.42045137921427\n",
      "(-0.5, 1.0) 69.42045137921427\n",
      "(-0.5, 3.5) 69.42045137921427\n",
      "(-0.25, 1.0) 69.42045137921427\n",
      "(0.0, 1.0) 69.42045137921427\n",
      "(0.25, 1.0) 69.42045137921427\n",
      "(0.5, 1.0) 69.42045137921427\n",
      "(0.5, 3.0) 69.42045137921427\n",
      "(0.75, 1.0) 69.42045137921427\n",
      "(0.75, 2.0) 69.42045137921427\n",
      "(1.0, 1.0) 69.42045137921427\n",
      "(1.25, 1.0) 69.42045137921427\n",
      "(1.5, 1.0) 69.42045137921427\n",
      "(1.75, 1.0) 69.42045137921427\n",
      "(-0.75, 3.5) 69.40651992198384\n",
      "(-0.5, 3.0) 69.40651992198384\n",
      "(0.75, 2.5) 69.39258846475342\n",
      "(1.5, 1.5) 69.39258846475342\n",
      "(0.25, 3.0) 69.37865700752299\n",
      "(-1.0, 3.5) 69.36472555029256\n",
      "(1.0, 2.0) 69.36472555029256\n",
      "(1.75, 1.5) 69.36472555029256\n",
      "(0.25, 3.5) 69.35079409306213\n",
      "(1.0, 2.5) 69.29506826414043\n",
      "(1.25, 2.0) 69.29506826414043\n",
      "(0.75, 3.5) 69.28113680691\n",
      "(1.5, 2.0) 69.26720534967957\n",
      "(0.75, 3.0) 69.25327389244914\n",
      "(1.75, 2.0) 69.2254109779883\n",
      "(0.5, 3.5) 69.19754806352745\n",
      "(1.0, 3.0) 69.1696851490666\n",
      "(1.0, 3.5) 69.11395932014489\n",
      "(1.25, 2.5) 69.11395932014489\n",
      "(1.5, 2.5) 69.0721649484536\n",
      "(1.25, 3.0) 69.05823349122318\n",
      "(1.5, 3.0) 68.93285037614935\n",
      "(1.25, 3.5) 68.89105600445806\n",
      "(1.75, 2.5) 68.79353580384509\n",
      "(1.5, 3.5) 68.66815268877124\n",
      "(1.75, 3.0) 68.50097520200613\n",
      "(1.75, 3.5) 68.41738645862357\n"
     ]
    }
   ],
   "source": [
    "for key in sorted(res, key=res.get, reverse=True):\n",
    "    print(key, res[key])"
   ]
  },
  {
   "cell_type": "code",
   "execution_count": null,
   "id": "d182ed66",
   "metadata": {},
   "outputs": [],
   "source": [
    "plt.sim"
   ]
  },
  {
   "cell_type": "code",
   "execution_count": null,
   "id": "466454f3",
   "metadata": {},
   "outputs": [],
   "source": [
    "min_sim = min(sims.values())\n",
    "max_sim = max(sims.values())\n",
    "min_sim, max_sim"
   ]
  },
  {
   "cell_type": "code",
   "execution_count": null,
   "id": "c67525c2",
   "metadata": {},
   "outputs": [],
   "source": [
    "res = {}\n",
    "min_sim = min(sims.values())\n",
    "max_sim = max(sims.values())\n",
    "\n",
    "for factor in [2, 3, 4]:  # Example factor to modify weights\n",
    "    net2 = copy.deepcopy(net)\n",
    "    for idx in sims.keys():\n",
    "        # Modify weights: Increase for interpretable, decrease for uninterpretable\n",
    "        net2.lin2.weight.data[idx] *= factor * (sims[idx] - min_sim) / (max_sim - min_sim)\n",
    "    acc1, acc2 = evaluate(net2, val_loader, criterion)\n",
    "    res[(tau, factor)] = acc1"
   ]
  },
  {
   "cell_type": "code",
   "execution_count": null,
   "id": "d4bbdcfb",
   "metadata": {},
   "outputs": [],
   "source": [
    "sorted(res.values())"
   ]
  },
  {
   "cell_type": "code",
   "execution_count": null,
   "id": "b2da95dd",
   "metadata": {},
   "outputs": [],
   "source": [
    "res = {}\n",
    "min_sim = min(sims.values())\n",
    "max_sim = max(sims.values())\n",
    "mean_sim = sum(sims.values()) / len(sims)\n",
    "for factor in np.arange(1, 15):  # Example factor to modify weights\n",
    "    net2 = copy.deepcopy(net)\n",
    "    for idx in sims.keys():\n",
    "        # Modify weights: Increase for interpretable, decrease for uninterpretable\n",
    "        net2.lin2.weight.data[idx] *= factor * (sims[idx] - min_sim) / (max_sim - min_sim)\n",
    "    acc1, acc2 = evaluate(net2, val_loader, criterion)\n",
    "    res[factor] = acc1"
   ]
  },
  {
   "cell_type": "code",
   "execution_count": null,
   "id": "e1773493",
   "metadata": {},
   "outputs": [],
   "source": [
    "sorted(res.values())"
   ]
  },
  {
   "cell_type": "code",
   "execution_count": 21,
   "id": "f627725b",
   "metadata": {},
   "outputs": [
    {
     "name": "stdout",
     "output_type": "stream",
     "text": [
      "{'Furrowed Brows': ['angry'], 'Raised Brows': ['surprise'], 'Lowered Brows': ['angry'], 'Drooping Brows': ['sad'], 'Relaxed Brows': ['neutral'], 'Wide Open Eyes': ['surprise'], 'Narrowed Eyes': ['angry'], 'Twinkling or Crinkled Eyes': ['happy'], 'Tearful Eyes': ['sad'], 'Closed Eyes': ['sad', 'neutral', 'fear'], 'Relaxed Eyes': ['neutral'], 'Tense Mouth and Jaw': ['angry', 'disgust'], 'Relaxed Mouth and Jaw': ['happy', 'neutral', 'sad'], 'Smile': ['happy'], 'Frown': ['sad'], 'Downturned Mouth': ['sad'], 'Slightly Open Mouth': ['surprise'], 'Wide Open Mouth': ['surprise'], 'Slight Chin Raise': ['surprise', 'neutral'], 'Slightly Dropped Jaw': ['surprise'], 'Flared Nostrils': ['angry', 'disgust'], 'Tightened Facial Muscles': ['angry', 'fear', 'disgust'], 'Compressed Lips': ['angry', 'disgust'], 'Elevated Upper Eyelids': ['surprise'], 'Relaxed Facial Muscles': ['happy', 'neutral']}\n"
     ]
    }
   ],
   "source": [
    "concept_labels = 'CLIP-dissect/data/concept_set_labels.txt'\n",
    "with open(concept_labels, 'r') as f: \n",
    "    s = (f.read()).split('\\n')\n",
    "labels = {}\n",
    "for item in s:\n",
    "    items = item.split(':')\n",
    "    labels[items[0]] = items[1].strip().split(',')\n",
    "print(labels)"
   ]
  },
  {
   "cell_type": "code",
   "execution_count": 16,
   "id": "b7a9c70e",
   "metadata": {},
   "outputs": [],
   "source": [
    "from collections import Counter\n",
    "\n",
    "def get_actual_labels(image_indices, pil_data):\n",
    "    labels = []\n",
    "    for idx in image_indices:\n",
    "        path, _ = pil_data.samples[idx]\n",
    "        label = path.split('/')[-2]  \n",
    "        labels.append(label)\n",
    "    return labels\n",
    "\n",
    "def show_images(ids):\n",
    "    num = len(ids)\n",
    "    fig = plt.figure(figsize=[10, 5])\n",
    "    axs = fig.subplots(nrows=num//5, ncols=5)\n",
    "    for i, id in enumerate(ids):\n",
    "        im, label = pil_data[id]\n",
    "        im = im.resize([375,375])\n",
    "        axs[i // 5, i % 5].imshow(im)\n",
    "        axs[i // 5, i % 5].axis('off')"
   ]
  },
  {
   "cell_type": "code",
   "execution_count": 19,
   "id": "6b8db7d9",
   "metadata": {},
   "outputs": [],
   "source": [
    "\n",
    "pil_data = data_utils.get_data(d_probe)\n",
    "clip_name = 'ViT-B/16'\n",
    "device = 'cuda'\n"
   ]
  },
  {
   "cell_type": "code",
   "execution_count": null,
   "id": "8a4b95d5",
   "metadata": {},
   "outputs": [],
   "source": [
    "net"
   ]
  },
  {
   "cell_type": "code",
   "execution_count": null,
   "id": "1ad21a80",
   "metadata": {},
   "outputs": [],
   "source": []
  },
  {
   "cell_type": "code",
   "execution_count": 22,
   "id": "28805446",
   "metadata": {},
   "outputs": [
    {
     "name": "stderr",
     "output_type": "stream",
     "text": [
      "100%|██████████| 64/64 [00:00<00:00, 3559.44it/s]\n"
     ]
    },
    {
     "name": "stdout",
     "output_type": "stream",
     "text": [
      "torch.Size([64, 25])\n",
      "0.21562499999999984 64\n",
      "conv1a\n"
     ]
    },
    {
     "name": "stderr",
     "output_type": "stream",
     "text": [
      "100%|██████████| 64/64 [00:00<00:00, 4878.43it/s]\n"
     ]
    },
    {
     "name": "stdout",
     "output_type": "stream",
     "text": [
      "torch.Size([64, 25])\n",
      "0.2999999999999999 64\n",
      "conv1b\n"
     ]
    },
    {
     "name": "stderr",
     "output_type": "stream",
     "text": [
      "100%|██████████| 128/128 [00:00<00:00, 4108.19it/s]\n"
     ]
    },
    {
     "name": "stdout",
     "output_type": "stream",
     "text": [
      "torch.Size([128, 25])\n",
      "0.21484375000000003 128\n",
      "conv2a\n"
     ]
    },
    {
     "name": "stderr",
     "output_type": "stream",
     "text": [
      "100%|██████████| 128/128 [00:00<00:00, 1284.79it/s]\n"
     ]
    },
    {
     "name": "stdout",
     "output_type": "stream",
     "text": [
      "torch.Size([128, 25])\n",
      "0.2765625 128\n",
      "conv2b\n"
     ]
    },
    {
     "name": "stderr",
     "output_type": "stream",
     "text": [
      "100%|██████████| 256/256 [00:00<00:00, 5032.70it/s]\n"
     ]
    },
    {
     "name": "stdout",
     "output_type": "stream",
     "text": [
      "torch.Size([256, 25])\n",
      "0.25976562500000017 256\n",
      "conv3a\n"
     ]
    },
    {
     "name": "stderr",
     "output_type": "stream",
     "text": [
      "100%|██████████| 256/256 [00:00<00:00, 1773.13it/s]\n"
     ]
    },
    {
     "name": "stdout",
     "output_type": "stream",
     "text": [
      "torch.Size([256, 25])\n",
      "0.2308593750000004 256\n",
      "conv3b\n"
     ]
    },
    {
     "name": "stderr",
     "output_type": "stream",
     "text": [
      "100%|██████████| 512/512 [00:00<00:00, 6804.30it/s]\n"
     ]
    },
    {
     "name": "stdout",
     "output_type": "stream",
     "text": [
      "torch.Size([512, 25])\n",
      "0.28242187499999954 512\n",
      "conv4a\n"
     ]
    },
    {
     "name": "stderr",
     "output_type": "stream",
     "text": [
      "100%|██████████| 512/512 [00:00<00:00, 3026.60it/s]\n"
     ]
    },
    {
     "name": "stdout",
     "output_type": "stream",
     "text": [
      "torch.Size([512, 25])\n",
      "0.2833984374999996 512\n",
      "conv4b\n"
     ]
    },
    {
     "name": "stderr",
     "output_type": "stream",
     "text": [
      "100%|██████████| 4096/4096 [00:00<00:00, 7766.94it/s]\n"
     ]
    },
    {
     "name": "stdout",
     "output_type": "stream",
     "text": [
      "torch.Size([4096, 25])\n",
      "0.3585693359374982 4096\n",
      "lin1\n"
     ]
    },
    {
     "name": "stderr",
     "output_type": "stream",
     "text": [
      "100%|██████████| 4096/4096 [00:00<00:00, 7871.50it/s]\n"
     ]
    },
    {
     "name": "stdout",
     "output_type": "stream",
     "text": [
      "torch.Size([4096, 25])\n",
      "0.4342285156249987 4096\n",
      "lin2\n"
     ]
    }
   ],
   "source": [
    "from collections import defaultdict \n",
    "tau = 0\n",
    "sim_thresh = .15\n",
    "overall_accuracies = []\n",
    "interpretables = []\n",
    "uninterpretables = []\n",
    "total_accs_interp = []\n",
    "total_accs_uninterp = []\n",
    "for layer in layers:\n",
    "    predicted_emotions, neuron_image_indices, sims = dissect_pipeline(d_probe,concept_set, similarity_fn, target_name, layer)\n",
    "    accuracies = defaultdict(dict)\n",
    "    for neuron, predicted_emotion in zip(neuron_image_indices.keys(), predicted_emotions):\n",
    "        neuron_id = neuron\n",
    "        image_indices = neuron_image_indices[neuron]\n",
    "        actual_labels = get_actual_labels(image_indices, pil_data)\n",
    "        sim = sims[int(neuron_id.cpu().numpy())]\n",
    "        accuracies[int(neuron_id)]['sim'] = sim\n",
    "        correct_count = 0\n",
    "        for label in actual_labels:\n",
    "            if label in labels[predicted_emotion]:\n",
    "                correct_count += 1\n",
    "        # Calculate the accuracy for this neuron\n",
    "        accuracy = correct_count / len(actual_labels)\n",
    "        accuracies[int(neuron_id)]['accuracy'] = accuracy\n",
    "\n",
    "    # Calculate overall accuracy\n",
    "    overall_accuracy = sum(d['accuracy'] for d in accuracies.values()) / len(accuracies)\n",
    "    print(overall_accuracy, len(accuracies))\n",
    "    overall_accuracies.append(overall_accuracy)\n",
    "    # Calculate interpretable accuracy\n",
    "    interpretable = 0\n",
    "    uninterpretable = 0\n",
    "    acc_interpretable = 0\n",
    "    acc_uninterpretable = 0\n",
    "    for d in accuracies.values():\n",
    "        if d['sim'] > tau:\n",
    "            interpretable += 1\n",
    "            acc_interpretable += d['accuracy']\n",
    "        else:\n",
    "            uninterpretable += 1\n",
    "            acc_uninterpretable += d['accuracy']\n",
    "    interpretables.append(interpretable)\n",
    "    uninterpretables.append(uninterpretable)\n",
    "    print(layer)\n",
    "    total_acc_interp = acc_interpretable / interpretable if interpretable else 0\n",
    "    total_acc_uninterp = acc_uninterpretable / uninterpretable if uninterpretable else 0\n",
    "    total_accs_interp.append(total_acc_interp)\n",
    "    total_accs_uninterp.append(total_acc_uninterp)\n",
    "    "
   ]
  },
  {
   "cell_type": "code",
   "execution_count": 34,
   "id": "dd694b26",
   "metadata": {},
   "outputs": [
    {
     "name": "stdout",
     "output_type": "stream",
     "text": [
      "f\n",
      "\n",
      "j\n"
     ]
    }
   ],
   "source": [
    "print(\"f\\n\\nj\")"
   ]
  },
  {
   "cell_type": "code",
   "execution_count": 46,
   "id": "0a62f666",
   "metadata": {
    "scrolled": true
   },
   "outputs": [
    {
     "data": {
      "text/html": [
       "<div>\n",
       "<style scoped>\n",
       "    .dataframe tbody tr th:only-of-type {\n",
       "        vertical-align: middle;\n",
       "    }\n",
       "\n",
       "    .dataframe tbody tr th {\n",
       "        vertical-align: top;\n",
       "    }\n",
       "\n",
       "    .dataframe thead th {\n",
       "        text-align: right;\n",
       "    }\n",
       "</style>\n",
       "<table border=\"1\" class=\"dataframe\">\n",
       "  <thead>\n",
       "    <tr style=\"text-align: right;\">\n",
       "      <th></th>\n",
       "      <th>num_interp</th>\n",
       "      <th>num_uninterp</th>\n",
       "      <th>overall_acc</th>\n",
       "      <th>interp_acc</th>\n",
       "      <th>uninterp_acc</th>\n",
       "      <th>prop_interp</th>\n",
       "    </tr>\n",
       "  </thead>\n",
       "  <tbody>\n",
       "    <tr>\n",
       "      <th>conv1a</th>\n",
       "      <td>64</td>\n",
       "      <td>0</td>\n",
       "      <td>0.22</td>\n",
       "      <td>0.22</td>\n",
       "      <td>0.00</td>\n",
       "      <td>1.00</td>\n",
       "    </tr>\n",
       "    <tr>\n",
       "      <th>conv1b</th>\n",
       "      <td>64</td>\n",
       "      <td>0</td>\n",
       "      <td>0.30</td>\n",
       "      <td>0.30</td>\n",
       "      <td>0.00</td>\n",
       "      <td>1.00</td>\n",
       "    </tr>\n",
       "    <tr>\n",
       "      <th>conv2a</th>\n",
       "      <td>127</td>\n",
       "      <td>1</td>\n",
       "      <td>0.21</td>\n",
       "      <td>0.21</td>\n",
       "      <td>0.30</td>\n",
       "      <td>0.99</td>\n",
       "    </tr>\n",
       "    <tr>\n",
       "      <th>conv2b</th>\n",
       "      <td>127</td>\n",
       "      <td>1</td>\n",
       "      <td>0.28</td>\n",
       "      <td>0.27</td>\n",
       "      <td>0.90</td>\n",
       "      <td>0.99</td>\n",
       "    </tr>\n",
       "    <tr>\n",
       "      <th>conv3a</th>\n",
       "      <td>254</td>\n",
       "      <td>2</td>\n",
       "      <td>0.26</td>\n",
       "      <td>0.26</td>\n",
       "      <td>0.05</td>\n",
       "      <td>0.99</td>\n",
       "    </tr>\n",
       "    <tr>\n",
       "      <th>conv3b</th>\n",
       "      <td>255</td>\n",
       "      <td>1</td>\n",
       "      <td>0.23</td>\n",
       "      <td>0.23</td>\n",
       "      <td>0.30</td>\n",
       "      <td>1.00</td>\n",
       "    </tr>\n",
       "    <tr>\n",
       "      <th>conv4a</th>\n",
       "      <td>492</td>\n",
       "      <td>20</td>\n",
       "      <td>0.28</td>\n",
       "      <td>0.29</td>\n",
       "      <td>0.21</td>\n",
       "      <td>0.96</td>\n",
       "    </tr>\n",
       "    <tr>\n",
       "      <th>conv4b</th>\n",
       "      <td>494</td>\n",
       "      <td>18</td>\n",
       "      <td>0.28</td>\n",
       "      <td>0.28</td>\n",
       "      <td>0.32</td>\n",
       "      <td>0.96</td>\n",
       "    </tr>\n",
       "    <tr>\n",
       "      <th>lin1</th>\n",
       "      <td>3489</td>\n",
       "      <td>607</td>\n",
       "      <td>0.36</td>\n",
       "      <td>0.38</td>\n",
       "      <td>0.25</td>\n",
       "      <td>0.85</td>\n",
       "    </tr>\n",
       "    <tr>\n",
       "      <th>lin2</th>\n",
       "      <td>3835</td>\n",
       "      <td>261</td>\n",
       "      <td>0.43</td>\n",
       "      <td>0.45</td>\n",
       "      <td>0.24</td>\n",
       "      <td>0.94</td>\n",
       "    </tr>\n",
       "  </tbody>\n",
       "</table>\n",
       "</div>"
      ],
      "text/plain": [
       "        num_interp  num_uninterp  overall_acc  interp_acc  uninterp_acc  \\\n",
       "conv1a          64             0         0.22        0.22          0.00   \n",
       "conv1b          64             0         0.30        0.30          0.00   \n",
       "conv2a         127             1         0.21        0.21          0.30   \n",
       "conv2b         127             1         0.28        0.27          0.90   \n",
       "conv3a         254             2         0.26        0.26          0.05   \n",
       "conv3b         255             1         0.23        0.23          0.30   \n",
       "conv4a         492            20         0.28        0.29          0.21   \n",
       "conv4b         494            18         0.28        0.28          0.32   \n",
       "lin1          3489           607         0.36        0.38          0.25   \n",
       "lin2          3835           261         0.43        0.45          0.24   \n",
       "\n",
       "        prop_interp  \n",
       "conv1a         1.00  \n",
       "conv1b         1.00  \n",
       "conv2a         0.99  \n",
       "conv2b         0.99  \n",
       "conv3a         0.99  \n",
       "conv3b         1.00  \n",
       "conv4a         0.96  \n",
       "conv4b         0.96  \n",
       "lin1           0.85  \n",
       "lin2           0.94  "
      ]
     },
     "execution_count": 46,
     "metadata": {},
     "output_type": "execute_result"
    }
   ],
   "source": [
    "df = pd.DataFrame({'num_interp':interpretables, 'num_uninterp':uninterpretables, \\\n",
    "                  'overall_acc':overall_accuracies, 'interp_acc':total_accs_interp, \\\n",
    "                  'uninterp_acc':total_accs_uninterp}, index=layers)\n",
    "df['prop_interp'] = df['num_interp'] / (df['num_interp'] + df['num_uninterp'])\n",
    "pd.options.display.float_format = \"{:,.2f}\".format\n",
    "df"
   ]
  },
  {
   "cell_type": "code",
   "execution_count": null,
   "id": "0729d9c7",
   "metadata": {},
   "outputs": [],
   "source": [
    "tau = 1\n",
    "sim_thresh = .15\n",
    "detailed_results = {}\n",
    "\n",
    "for neuron, predicted_emotion in zip(neuron_image_indices.keys(), predicted_emotions):\n",
    "    neuron_id = neuron\n",
    "    image_indices = neuron_image_indices[neuron]\n",
    "    actual_labels = get_actual_labels(image_indices, pil_data)\n",
    "    sim = sims[int(neuron_id.cpu().numpy())]\n",
    "\n",
    "    detailed_results[int(neuron_id)] = {\n",
    "        'predicted_emotion': predicted_emotion,\n",
    "        'actual_labels': actual_labels,\n",
    "        'top_image_indices': image_indices,\n",
    "        'sim': sim\n",
    "    }\n",
    "    #label_embed = embedding_model.encode(actual_labels)\n",
    "    #concept_embed = embedding_model.encode([predicted_emotion] * len(actual_labels))\n",
    "    #mp_cos = np.mean(np.sum(label_embed*concept_embed, axis=1) > sim_thresh)\n",
    "    correct_count = 0\n",
    "    for label in actual_labels:\n",
    "        if label in labels[predicted_emotion]:\n",
    "            correct_count += 1\n",
    "    # Calculate the accuracy for this neuron\n",
    "    accuracy = correct_count / len(actual_labels)\n",
    "    detailed_results[int(neuron_id)]['accuracy'] = accuracy\n",
    "\n",
    "# Calculate overall accuracy\n",
    "overall_accuracy = sum(d['accuracy'] for d in detailed_results.values()) / len(detailed_results)\n",
    "# Calculate interpretable accuracy\n",
    "interpretable = 0\n",
    "uninterpretable = 0\n",
    "acc_interpretable = 0\n",
    "acc_uninterpretable = 0\n",
    "for d in detailed_results.values():\n",
    "    if d['sim'] > tau:\n",
    "        interpretable += 1\n",
    "        acc_interpretable += d['accuracy']\n",
    "    else:\n",
    "        uninterpretable += 1\n",
    "        acc_uninterpretable += d['accuracy']\n",
    "print(target_layer)\n",
    "print(f'num interpretable: {interpretable}')\n",
    "print(f'num uninterpretable: {uninterpretable}')\n",
    "total_acc_interp = acc_interpretable / interpretable if interpretable else 0\n",
    "total_acc_uninterp = acc_uninterpretable / uninterpretable if uninterpretable else 0\n",
    "# Print the detailed results\n",
    "i = 0\n",
    "for neuron_id, results in detailed_results.items():\n",
    "    i += 1\n",
    "    if i >= 0:\n",
    "        break\n",
    "    print(f\"Neuron {neuron_id}: Predicted Emotion = {results['predicted_emotion']}, Accuracy = {results['accuracy']}\")\n",
    "    for image_idx, actual_label in zip(results['top_image_indices'], results['actual_labels']):\n",
    "        print(f\"    Image Index {image_idx}: Actual Label = {actual_label}\")\n",
    "\n",
    "print(f\"Overall accuracy: {overall_accuracy}\")\n",
    "print(f\"Overall interpretable accuracy: {total_acc_interp}\")\n",
    "print(f\"Overall uninterpretable accuracy: {total_acc_uninterp}\")\n",
    "\n",
    "    \n"
   ]
  },
  {
   "cell_type": "code",
   "execution_count": null,
   "id": "2eee8fe9",
   "metadata": {},
   "outputs": [],
   "source": [
    "ids = detailed_results[2275]['top_image_indices']\n",
    "show_images(ids)"
   ]
  },
  {
   "cell_type": "code",
   "execution_count": null,
   "id": "aade2349",
   "metadata": {},
   "outputs": [],
   "source": []
  }
 ],
 "metadata": {
  "kernelspec": {
   "display_name": "Python 3 (ipykernel)",
   "language": "python",
   "name": "python3"
  },
  "language_info": {
   "codemirror_mode": {
    "name": "ipython",
    "version": 3
   },
   "file_extension": ".py",
   "mimetype": "text/x-python",
   "name": "python",
   "nbconvert_exporter": "python",
   "pygments_lexer": "ipython3",
   "version": "3.9.5"
  }
 },
 "nbformat": 4,
 "nbformat_minor": 5
}
